{
 "cells": [
  {
   "cell_type": "markdown",
   "id": "42342db3",
   "metadata": {},
   "source": [
    "# Testing code for project segments"
   ]
  },
  {
   "cell_type": "markdown",
   "id": "622f4169",
   "metadata": {},
   "source": [
    "#### CVAR test"
   ]
  },
  {
   "cell_type": "code",
   "execution_count": null,
   "id": "8ed30736",
   "metadata": {},
   "outputs": [],
   "source": [
    "from matplotlib import pyplot as plt\n",
    "from matplotlib.patches import Ellipse\n",
    "import numpy as np\n",
    "from scipy.stats import norm, chi2\n",
    "\n",
    "from swarm_prm.solvers.swarm_prm.macro.gaussian_prm import GaussianNode\n",
    "from swarm_prm.envs.map import Map, CircleObstacle\n",
    "\n",
    "\n",
    "def obstacle_gaussian_collision(obs: CircleObstacle, g_node: GaussianNode, alpha, thresh, ax) -> bool:\n",
    "    \"\"\"\n",
    "        Using CVaR and threshold to test if node is too close to obstacle.\n",
    "        Return True if CVaR is greater than the threshold.\n",
    "        Reference: SwarmPRM\n",
    "    \"\"\"\n",
    "\n",
    "    # Plot normal vector\n",
    "    mean = -obs.get_dist(g_node.get_mean())\n",
    "    v_normal = (obs.pos - g_node.get_mean()) / (np.linalg.norm(obs.pos - g_node.get_mean()))\n",
    "    start_pos = g_node.get_mean()\n",
    "    end_pos = start_pos - v_normal * mean\n",
    "    vec = np.vstack([start_pos, end_pos]).T\n",
    "    ax.plot(vec[0], vec[1])\n",
    "\n",
    "    variance = v_normal.T @ g_node.covariance @ v_normal\n",
    "    ita = norm(mean, variance)\n",
    "    cvar = mean + ita.pdf(ita.ppf(1-alpha))/alpha * variance\n",
    "    # print(cvar)\n",
    "    return cvar > thresh\n",
    "\n",
    "def visualize_g_node(g_node, ax, thresh, is_collision):\n",
    "    # Visualize G nodes\n",
    "    mean, cov = g_node.get_gaussian()\n",
    "    # Compute the eigenvalues and eigenvectors of the covariance matrix\n",
    "    eigenvalues, eigenvectors = np.linalg.eigh(cov)\n",
    "\n",
    "    # Sort eigenvalues and eigenvectors by descending eigenvalue\n",
    "    order = eigenvalues.argsort()[::-1]\n",
    "    eigenvalues = eigenvalues[order]\n",
    "    eigenvectors = eigenvectors[:, order]\n",
    "\n",
    "    # The angle of the ellipse (in degrees)\n",
    "    angle = np.degrees(np.arctan2(*eigenvectors[:, 0][::-1]))\n",
    "\n",
    "    # The width and height of the ellipse (2*sqrt(chi2_value*eigenvalue))\n",
    "    chi2_value = chi2.ppf(thresh, 2)  # threshold confidence interval for 2 degrees of freedom (chi-squared value)\n",
    "    width, height = 2 * np.sqrt(chi2_value * eigenvalues)\n",
    "    if is_collision:\n",
    "        ellipse = Ellipse(xy=mean, width=width, height=height, angle=angle, \n",
    "                          edgecolor=\"red\", fc='None', lw=2)\n",
    "    else:\n",
    "        ellipse = Ellipse(xy=mean, width=width, height=height, angle=angle, \n",
    "                          edgecolor=\"blue\", fc='None', lw=2)\n",
    "    ax.add_patch(ellipse)\n"
   ]
  },
  {
   "cell_type": "code",
   "execution_count": null,
   "id": "349c7ac6",
   "metadata": {},
   "outputs": [],
   "source": [
    "roadmap = Map(100, 100)\n",
    "pos = np.array([50, 50])\n",
    "obs = CircleObstacle(pos, 10)\n",
    "thresh = -8\n",
    "tolerance = 0.95\n",
    "alpha = 0.95 \n",
    "num_g_node = 10 \n",
    "\n",
    "roadmap.add_obstacle(obs)\n",
    "fig, ax = roadmap.visualize()\n",
    "start_mean = np.random.rand(2) * 100\n",
    "goal_mean = np.random.rand(2) * 100\n",
    "\n",
    "temp = np.random.rand(2, 2) * 10\n",
    "start_cov =  temp @ temp.T\n",
    "temp = np.random.rand(2, 2) * 10\n",
    "goal_cov =  temp @ temp.T\n",
    "\n",
    "for i in range(num_g_node):\n",
    "    mean = i / (num_g_node) * start_mean + (num_g_node - i) / num_g_node * goal_mean\n",
    "    cov = i / (num_g_node) * start_cov + (num_g_node - i) / num_g_node * goal_cov\n",
    "\n",
    "    g_node = GaussianNode(mean, cov)\n",
    "    is_collision = obstacle_gaussian_collision(obs,  g_node, alpha, thresh, ax)\n",
    "    visualize_g_node(g_node, ax, tolerance, is_collision)"
   ]
  },
  {
   "cell_type": "markdown",
   "id": "ef97deab",
   "metadata": {},
   "source": [
    "## Inscribed Ellipsoid"
   ]
  },
  {
   "cell_type": "code",
   "execution_count": null,
   "id": "8559522f",
   "metadata": {},
   "outputs": [],
   "source": []
  },
  {
   "cell_type": "code",
   "execution_count": null,
   "id": "418289a3-06e7-4622-87a1-49d290f44f38",
   "metadata": {},
   "outputs": [],
   "source": []
  }
 ],
 "metadata": {
  "kernelspec": {
   "display_name": "SwarmPRM",
   "language": "python",
   "name": "python3"
  },
  "language_info": {
   "codemirror_mode": {
    "name": "ipython",
    "version": 3
   },
   "file_extension": ".py",
   "mimetype": "text/x-python",
   "name": "python",
   "nbconvert_exporter": "python",
   "pygments_lexer": "ipython3",
   "version": "3.12.4"
  }
 },
 "nbformat": 4,
 "nbformat_minor": 5
}
