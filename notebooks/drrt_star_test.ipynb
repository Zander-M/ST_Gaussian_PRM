{
 "cells": [
  {
   "cell_type": "markdown",
   "metadata": {},
   "source": [
    "# DRRT star test"
   ]
  },
  {
   "cell_type": "code",
   "execution_count": null,
   "metadata": {},
   "outputs": [],
   "source": [
    "%load_ext autoreload\n",
    "%autoreload 2"
   ]
  },
  {
   "cell_type": "code",
   "execution_count": null,
   "metadata": {},
   "outputs": [],
   "source": [
    "from collections import Counter\n",
    "import os\n",
    "import pickle\n",
    "import numpy as np\n",
    "\n",
    "from shapely.geometry import Polygon"
   ]
  },
  {
   "cell_type": "markdown",
   "metadata": {},
   "source": [
    "San check with one agent"
   ]
  },
  {
   "cell_type": "code",
   "execution_count": null,
   "metadata": {},
   "outputs": [],
   "source": [
    "from swarm_prm.utils.agent_assignment import get_agent_assignment\n",
    "\n",
    "num_agents = 1\n",
    "agent_radius = 1\n",
    "\n",
    "# Map config\n",
    "\n",
    "map_type = \"obstacle\"\n",
    "num_samples = 200\n",
    "\n"
   ]
  },
  {
   "cell_type": "code",
   "execution_count": null,
   "metadata": {},
   "outputs": [],
   "source": [
    "map_fname = \"{}_{}.pkl\".format(map_type, num_samples)\n",
    "fname = os.path.join(\"../maps\", map_fname)\n",
    "with open(fname, \"rb\") as f:\n",
    "    gaussian_prm = pickle.load(f)\n",
    "\n",
    "\n",
    "\n",
    "start_regions = [\n",
    "    Polygon([[0, 160], [0, 0], [20, 0], [20, 160]]),\n",
    "]\n",
    "\n",
    "goal_regions = [\n",
    "    Polygon([[180, 160], [180, 0], [200, 0], [200, 160]]),\n",
    "]\n",
    "num_starts = 1\n",
    "num_goals = 1\n",
    "\n",
    "starts_idx_set = gaussian_prm.get_node_index(start_regions)\n",
    "goals_idx_set = gaussian_prm.get_node_index(goal_regions)\n",
    "\n",
    "starts_idx = np.random.choice(starts_idx_set, num_starts, replace=False).tolist()\n",
    "goals_idx = np.random.choice(goals_idx_set, num_goals, replace=False).tolist()\n",
    "\n",
    "# Create weight pool\n",
    "\n",
    "starts_pool = []\n",
    "goals_pool = []\n",
    "\n",
    "for start_idx in starts_idx:\n",
    "    starts_pool += [start_idx] * gaussian_prm.gaussian_nodes[start_idx].get_capacity(agent_radius)\n",
    "\n",
    "for goal_idx in goals_idx:\n",
    "    goals_pool += [goal_idx] * gaussian_prm.gaussian_nodes[goal_idx].get_capacity(agent_radius)\n",
    "\n",
    "start_per_agent = np.random.choice(starts_pool, num_agents, replace=False).tolist()\n",
    "goal_per_agent = np.random.choice(goals_pool, num_agents, replace=False).tolist()\n",
    "\n",
    "start_counts = Counter(start_per_agent)\n",
    "goal_counts = Counter(goal_per_agent)\n",
    "\n",
    "starts_idx = []\n",
    "starts_agent_count = []\n",
    "goals_idx = []\n",
    "goals_agent_count = []\n",
    "\n",
    "for start_idx, count in start_counts.items():\n",
    "    starts_idx.append(start_idx)\n",
    "    starts_agent_count.append(count)\n",
    "\n",
    "for goal_idx, count in goal_counts.items():\n",
    "    goals_idx.append(goal_idx)\n",
    "    goals_agent_count.append(count)\n",
    "\n",
    "print(starts_idx, goals_idx)\n",
    "print(starts_agent_count, goals_agent_count)\n"
   ]
  },
  {
   "cell_type": "code",
   "execution_count": null,
   "metadata": {},
   "outputs": [],
   "source": [
    "from swarm_prm.solvers.macro import SOLVER_REGISTRY\n",
    "\n",
    "solver = SOLVER_REGISTRY[\"DRRTStarSolver\"]\n",
    "\n",
    "drrt_star_solver = solver(gaussian_prm, agent_radius, \n",
    "                    starts_agent_count=starts_agent_count, goals_agent_count=goals_agent_count,\n",
    "                    starts_idx = starts_idx, goals_idx = goals_idx,\n",
    "                   num_agents=num_agents, time_limit=120)\n",
    "path, cost= drrt_star_solver.solve()"
   ]
  },
  {
   "cell_type": "code",
   "execution_count": null,
   "metadata": {},
   "outputs": [],
   "source": [
    "import matplotlib.pyplot as plt\n",
    "\n",
    "fig, ax = gaussian_prm.visualize_roadmap()\n",
    "\n",
    "for agent in range(num_agents):\n",
    "    locations = [gaussian_prm.samples[location_idx[0]] for location_idx in p]\n",
    "    x = [loc[0] for loc in locations]\n",
    "    y = [loc[1] for loc in locations]\n",
    "    ax.plot(x, y, \"-\")\n",
    "\n",
    "plt.show()\n"
   ]
  },
  {
   "cell_type": "markdown",
   "metadata": {},
   "source": [
    "Multi-agent DRRT"
   ]
  },
  {
   "cell_type": "code",
   "execution_count": null,
   "metadata": {},
   "outputs": [],
   "source": [
    "num_agents = 4\n",
    "agent_radius = 1\n",
    "\n",
    "# Map config\n",
    "map_type = \"obstacle\"\n",
    "num_samples = 100\n",
    "\n",
    "starts_weight = [0.2, 0.8]\n",
    "goals_weight = [0.4, 0.6]"
   ]
  },
  {
   "cell_type": "code",
   "execution_count": null,
   "metadata": {},
   "outputs": [],
   "source": [
    "# Load map and instance\n",
    "import os\n",
    "import pickle\n",
    "\n",
    "from swarm_prm.utils.agent_assignment import get_agent_assignment\n",
    "\n",
    "map_fname = \"{}_{}.pkl\".format(map_type, num_samples)\n",
    "fname = os.path.join(\"../maps\", map_fname)\n",
    "with open(fname, \"rb\") as f:\n",
    "    gaussian_prm = pickle.load(f)\n",
    "\n",
    "starts_agent_count = get_agent_assignment(num_agents, starts_weight)\n",
    "goals_agent_count = get_agent_assignment(num_agents, goals_weight)\n",
    "\n",
    "print(starts_agent_count, goals_agent_count)"
   ]
  },
  {
   "cell_type": "code",
   "execution_count": null,
   "metadata": {},
   "outputs": [],
   "source": [
    "from swarm_prm.solvers.macro import SOLVER_REGISTRY\n",
    "\n",
    "solver = SOLVER_REGISTRY[\"DRRTStarSolver\"]\n",
    "\n",
    "drrt_star_solver = solver(gaussian_prm, agent_radius, starts_agent_count=starts_agent_count, goals_agent_count=goals_agent_count,\n",
    "                   num_agents=num_agents, time_limit=300)\n",
    "path, cost= drrt_star_solver.get_solution()"
   ]
  },
  {
   "cell_type": "code",
   "execution_count": null,
   "metadata": {},
   "outputs": [],
   "source": [
    "import matplotlib.pyplot as plt\n",
    "\n",
    "fig, ax = gaussian_prm.visualize_roadmap()\n",
    "for agent in range(num_agents):\n",
    "    locations = [gaussian_prm.samples[location_idx[agent]] for location_idx in paths]\n",
    "\n",
    "    x = [loc[0] for loc in locations]\n",
    "    y = [loc[1] for loc in locations]\n",
    "    ax.plot(x, y, \"-\")\n",
    "\n",
    "plt.show()"
   ]
  },
  {
   "cell_type": "code",
   "execution_count": null,
   "metadata": {},
   "outputs": [],
   "source": [
    "# Add interpolations \n",
    "import numpy as np\n",
    "\n",
    "def add_linear_interpolation_points(path, subdiv=5):\n",
    "    \"\"\"\n",
    "    Insert linearly-interpolated positions between consecutive points.\n",
    "    \n",
    "    Parameters\n",
    "    ----------\n",
    "    path : array-like of shape (N, 2)\n",
    "        The original list/array of N 2D points, e.g. [(x1,y1), (x2,y2), ...].\n",
    "    subdiv : int\n",
    "        Number of intervals to subdivide each segment. \n",
    "        For each original segment, we will add 'subdiv - 1' new interior points \n",
    "        (except that we skip duplicates at the shared boundary).\n",
    "\n",
    "    Returns\n",
    "    -------\n",
    "    new_path : np.ndarray of shape (M, 2)\n",
    "        The new path including the original points and the added interpolation points.\n",
    "    \"\"\"\n",
    "    path = np.asarray(path)\n",
    "    new_path = []\n",
    "\n",
    "    # Iterate over pairs of consecutive points\n",
    "    for i in range(len(path) - 1):\n",
    "        start = path[i]\n",
    "        end = path[i + 1]\n",
    "        \n",
    "        # Create subdiv+1 points in [start, end] using linspace for each dimension\n",
    "        xs = np.linspace(start[0], end[0], subdiv + 1)\n",
    "        ys = np.linspace(start[1], end[1], subdiv + 1)\n",
    "        \n",
    "        # Add each intermediate point except the very last one\n",
    "        # to avoid duplicating the next segment's start\n",
    "        for j in range(subdiv):\n",
    "            new_path.append([xs[j], ys[j]])\n",
    "\n",
    "    # Finally add the very last point of the last segment\n",
    "    new_path.append(path[-1].tolist())\n",
    "    \n",
    "    return np.array(new_path)\n",
    "\n",
    "interpolated_paths = []\n",
    "for p in simple_paths:\n",
    "    new_path = add_linear_interpolation_points(p, 50)\n",
    "    interpolated_paths.append(new_path)\n"
   ]
  },
  {
   "cell_type": "code",
   "execution_count": null,
   "metadata": {},
   "outputs": [],
   "source": [
    "import matplotlib.pyplot as plt\n",
    "from matplotlib.patches import Circle\n",
    "from matplotlib.animation import FuncAnimation\n",
    "\n",
    "def animate_solution(fig, ax, speed, paths):\n",
    "    \"\"\"\n",
    "        Visualize solution trajectory provided instance\n",
    "    \"\"\"\n",
    "    \n",
    "    agents = []\n",
    "    def init():\n",
    "        for agent in agents:\n",
    "            agent.remove()\n",
    "        agents.clear()\n",
    "        return []\n",
    "\n",
    "    def update(frame):\n",
    "        idx = frame * speed\n",
    "        for agent in agents:\n",
    "            agent.remove()\n",
    "        agents.clear()\n",
    "        cmap = plt.get_cmap(\"tab10\")\n",
    "        locs = [path[idx] for path in paths]\n",
    "        for i, loc in enumerate(locs):\n",
    "            agent = ax.add_patch(Circle(loc, radius=agent_radius, color=cmap(i%10)))\n",
    "            agents.append(agent)\n",
    "        return agents\n",
    "\n",
    "    anim = FuncAnimation(fig, update, frames=len(paths[0])// speed , \n",
    "                         init_func=init, blit=True, interval=10)\n",
    "    anim.save(\"solutions/drrt_star_solution.gif\", writer='pillow', fps=6)\n",
    "\n",
    "# fig, ax = instance.visualize()\n",
    "fig, ax = gaussian_prm.visualize_g_nodes()\n",
    "animate_solution(fig, ax, 10, interpolated_paths)\n"
   ]
  }
 ],
 "metadata": {
  "language_info": {
   "name": "python"
  }
 },
 "nbformat": 4,
 "nbformat_minor": 2
}
