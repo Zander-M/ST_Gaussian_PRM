{
 "cells": [
  {
   "cell_type": "markdown",
   "id": "de767f5a",
   "metadata": {},
   "source": [
    "# APF"
   ]
  },
  {
   "cell_type": "code",
   "execution_count": null,
   "id": "24c12626",
   "metadata": {},
   "outputs": [],
   "source": [
    "%matplotlib inline"
   ]
  },
  {
   "cell_type": "markdown",
   "id": "6878485d",
   "metadata": {},
   "source": [
    "## APF test"
   ]
  },
  {
   "cell_type": "code",
   "execution_count": null,
   "id": "f363b5f7",
   "metadata": {},
   "outputs": [],
   "source": [
    "# === PARAMETERS ===\n",
    "NUM_AGENTS = 500\n",
    "GOAL_TOL = 0.001\n",
    "STEP_SIZE = 0.05\n",
    "K_ATTR = 1.0      # Attractive potential gain\n",
    "K_REP = 0.0002    # Repulsive potential gain\n",
    "REPULSION_RADIUS = 0.55\n",
    "MAX_REP_FORCE = 1.0\n",
    "MIN_DIST = 0.05   # Prevent division by very small values\n",
    "MAX_STEP = 0.07   # Clamp maximum step per agent\n",
    "DAMPING = 0.7     # Optional: smooth movement"
   ]
  },
  {
   "cell_type": "code",
   "execution_count": 1,
   "id": "a287d01e",
   "metadata": {},
   "outputs": [
    {
     "ename": "NameError",
     "evalue": "name 'NUM_AGENTS' is not defined",
     "output_type": "error",
     "traceback": [
      "\u001b[0;31m---------------------------------------------------------------------------\u001b[0m",
      "\u001b[0;31mNameError\u001b[0m                                 Traceback (most recent call last)",
      "Cell \u001b[0;32mIn[1], line 7\u001b[0m\n\u001b[1;32m      5\u001b[0m \u001b[38;5;66;03m# === INITIAL CONDITIONS ===\u001b[39;00m\n\u001b[1;32m      6\u001b[0m np\u001b[38;5;241m.\u001b[39mrandom\u001b[38;5;241m.\u001b[39mseed(\u001b[38;5;241m0\u001b[39m)\n\u001b[0;32m----> 7\u001b[0m positions \u001b[38;5;241m=\u001b[39m np\u001b[38;5;241m.\u001b[39mrandom\u001b[38;5;241m.\u001b[39mrand(NUM_AGENTS, \u001b[38;5;241m2\u001b[39m) \u001b[38;5;241m*\u001b[39m np\u001b[38;5;241m.\u001b[39marray((\u001b[38;5;241m-\u001b[39m\u001b[38;5;241m2\u001b[39m, \u001b[38;5;241m1\u001b[39m))\n\u001b[1;32m      9\u001b[0m \u001b[38;5;66;03m# === RANDOM GAUSSIAN GOALS ===\u001b[39;00m\n\u001b[1;32m     10\u001b[0m \u001b[38;5;66;03m# goals = np.tile(np.array([1, 0]), (NUM_AGENTS, 1) )\u001b[39;00m\n\u001b[1;32m     11\u001b[0m goal_mean \u001b[38;5;241m=\u001b[39m np\u001b[38;5;241m.\u001b[39marray([\u001b[38;5;241m1.0\u001b[39m, \u001b[38;5;241m1.0\u001b[39m])\n",
      "\u001b[0;31mNameError\u001b[0m: name 'NUM_AGENTS' is not defined"
     ]
    }
   ],
   "source": [
    "import numpy as np\n",
    "import matplotlib.pyplot as plt\n",
    "import matplotlib.animation as animation\n",
    "\n",
    "# === INITIAL CONDITIONS ===\n",
    "np.random.seed(0)\n",
    "positions = np.random.rand(NUM_AGENTS, 2) * np.array((-2, 1))\n",
    "\n",
    "# === RANDOM GAUSSIAN GOALS ===\n",
    "# goals = np.tile(np.array([1, 0]), (NUM_AGENTS, 1) )\n",
    "goal_mean = np.array([1.0, 1.0])\n",
    "goal_cov = np.array([[0.05, 0], [0, 1]])  # Small spread\n",
    "goals = np.random.multivariate_normal(mean=goal_mean, cov=goal_cov, size=NUM_AGENTS)\n",
    "\n",
    "# === APF PLANNING FUNCTION ===\n",
    "def compute_apf_forces(pos, goals):\n",
    "    forces = np.zeros_like(pos)\n",
    "    for i in range(len(pos)):\n",
    "        # Attractive force\n",
    "        diff = goals[i] - pos[i]\n",
    "        f_attr = K_ATTR * diff\n",
    "\n",
    "        # Repulsive force from other agents\n",
    "        f_rep = np.zeros(2)\n",
    "        \n",
    "        for j in range(len(pos)):\n",
    "            if i == j:\n",
    "                continue\n",
    "            diff_ij = pos[i] - pos[j]\n",
    "            dist = np.linalg.norm(diff_ij)\n",
    "            if dist < REPULSION_RADIUS and dist > 1e-6:\n",
    "                # Clamp small distances to avoid singularity\n",
    "                dist_clamped = max(dist, MIN_DIST)\n",
    "                rep_mag = K_REP * (1.0 / dist_clamped - 1.0 / REPULSION_RADIUS) / (dist_clamped**2)\n",
    "                rep_mag = np.clip(rep_mag, 0, MAX_REP_FORCE)\n",
    "                f_rep += rep_mag * (diff_ij / dist_clamped)\n",
    "\n",
    "        forces[i] = f_attr + f_rep\n",
    "    return forces\n",
    "\n",
    "# === VISUALIZATION SETUP ===\n",
    "fig, ax = plt.subplots()\n",
    "scat = ax.scatter([], [], c='blue')\n",
    "goal_plot = ax.scatter(goals[:, 0], goals[:, 1], c='green', marker='x')\n",
    "ax.set_xlim(-1, 3)\n",
    "ax.set_ylim(-1, 3)\n",
    "ax.set_aspect('equal')\n",
    "\n",
    "# === SIMULATION LOOP ===\n",
    "stopped = False\n",
    "\n",
    "def update(frame):\n",
    "    global positions, stopped\n",
    "\n",
    "    if not stopped:\n",
    "        dists_to_goals = np.linalg.norm(positions - goals, axis=1)\n",
    "        if np.any(dists_to_goals < GOAL_TOL):\n",
    "            stopped = True\n",
    "        else:\n",
    "            forces = compute_apf_forces(positions, goals)\n",
    "            for i in range(len(positions)):\n",
    "                step = STEP_SIZE * forces[i]\n",
    "                norm = np.linalg.norm(step)\n",
    "                if norm > MAX_STEP:\n",
    "                    step = MAX_STEP * step / norm\n",
    "                positions[i] += DAMPING * step  # Apply damping\n",
    "\n",
    "    scat.set_offsets(positions)\n",
    "    return scat,\n",
    "\n",
    "ani = animation.FuncAnimation(fig, update, frames=200, interval=100, blit=True)\n",
    "plt.title(\"Multi-Agent APF with Stability Control\")\n",
    "\n",
    "from IPython.display import HTML\n",
    "HTML(ani.to_jshtml())"
   ]
  },
  {
   "cell_type": "markdown",
   "id": "2db0f683",
   "metadata": {},
   "source": [
    "## APF waypoint"
   ]
  },
  {
   "cell_type": "code",
   "execution_count": 2,
   "id": "c43010ff",
   "metadata": {},
   "outputs": [
    {
     "name": "stdout",
     "output_type": "stream",
     "text": [
      "paths (100, 4, 2)\n"
     ]
    },
    {
     "ename": "ValueError",
     "evalue": "operands could not be broadcast together with shapes (100,) (100,2) ",
     "output_type": "error",
     "traceback": [
      "\u001b[0;31m---------------------------------------------------------------------------\u001b[0m",
      "\u001b[0;31mValueError\u001b[0m                                Traceback (most recent call last)",
      "Cell \u001b[0;32mIn[2], line 20\u001b[0m\n\u001b[1;32m     16\u001b[0m paths \u001b[38;5;241m=\u001b[39m np\u001b[38;5;241m.\u001b[39meinsum(\u001b[38;5;124m\"\u001b[39m\u001b[38;5;124mijk->jik\u001b[39m\u001b[38;5;124m\"\u001b[39m, samples)\n\u001b[1;32m     18\u001b[0m \u001b[38;5;28mprint\u001b[39m(\u001b[38;5;124m\"\u001b[39m\u001b[38;5;124mpaths\u001b[39m\u001b[38;5;124m\"\u001b[39m, paths\u001b[38;5;241m.\u001b[39mshape)\n\u001b[0;32m---> 20\u001b[0m trajectories \u001b[38;5;241m=\u001b[39m APF(paths)\u001b[38;5;241m.\u001b[39msolve()\n\u001b[1;32m     22\u001b[0m apf_config \u001b[38;5;241m=\u001b[39m {\n\u001b[1;32m     23\u001b[0m     \n\u001b[1;32m     24\u001b[0m }\n",
      "File \u001b[0;32m~/Desktop/Projects/SwarmPRM/src/swarm_prm/solvers/micro/apf/apf.py:82\u001b[0m, in \u001b[0;36mAPF.solve\u001b[0;34m(self)\u001b[0m\n\u001b[1;32m     80\u001b[0m segments \u001b[38;5;241m=\u001b[39m []\n\u001b[1;32m     81\u001b[0m \u001b[38;5;28;01mfor\u001b[39;00m t \u001b[38;5;129;01min\u001b[39;00m \u001b[38;5;28mrange\u001b[39m(\u001b[38;5;28mlen\u001b[39m(\u001b[38;5;28mself\u001b[39m\u001b[38;5;241m.\u001b[39msolution_paths[\u001b[38;5;241m0\u001b[39m])\u001b[38;5;241m-\u001b[39m\u001b[38;5;241m1\u001b[39m):\n\u001b[0;32m---> 82\u001b[0m     trajectories \u001b[38;5;241m=\u001b[39m \u001b[38;5;28mself\u001b[39m\u001b[38;5;241m.\u001b[39mupdate(t)\n\u001b[1;32m     83\u001b[0m     segments\u001b[38;5;241m.\u001b[39mappend(trajectories)\n\u001b[1;32m     84\u001b[0m \u001b[38;5;28;01mreturn\u001b[39;00m segments\n",
      "File \u001b[0;32m~/Desktop/Projects/SwarmPRM/src/swarm_prm/solvers/micro/apf/apf.py:46\u001b[0m, in \u001b[0;36mAPF.update\u001b[0;34m(self, t)\u001b[0m\n\u001b[1;32m     44\u001b[0m     reached_goal \u001b[38;5;241m=\u001b[39m \u001b[38;5;28;01mTrue\u001b[39;00m\n\u001b[1;32m     45\u001b[0m \u001b[38;5;28;01melse\u001b[39;00m: \n\u001b[0;32m---> 46\u001b[0m     forces \u001b[38;5;241m=\u001b[39m \u001b[38;5;28mself\u001b[39m\u001b[38;5;241m.\u001b[39mcompute_apf_forces(positions, goals)\n\u001b[1;32m     47\u001b[0m     step \u001b[38;5;241m=\u001b[39m \u001b[38;5;28mself\u001b[39m\u001b[38;5;241m.\u001b[39mstep_size \u001b[38;5;241m*\u001b[39m forces\n\u001b[1;32m     48\u001b[0m     norm \u001b[38;5;241m=\u001b[39m np\u001b[38;5;241m.\u001b[39mlinalg\u001b[38;5;241m.\u001b[39mnorm(step)\n",
      "File \u001b[0;32m~/Desktop/Projects/SwarmPRM/src/swarm_prm/solvers/micro/apf/apf.py:71\u001b[0m, in \u001b[0;36mAPF.compute_apf_forces\u001b[0;34m(self, pos, goals)\u001b[0m\n\u001b[1;32m     68\u001b[0m     rep_mag \u001b[38;5;241m=\u001b[39m np\u001b[38;5;241m.\u001b[39mclip(rep_mag, \u001b[38;5;241m0\u001b[39m, \u001b[38;5;28mself\u001b[39m\u001b[38;5;241m.\u001b[39mmax_rep_force)\n\u001b[1;32m     69\u001b[0m     rep_mag[\u001b[38;5;241m~\u001b[39mmask] \u001b[38;5;241m=\u001b[39m \u001b[38;5;241m0\u001b[39m \u001b[38;5;66;03m# masking\u001b[39;00m\n\u001b[0;32m---> 71\u001b[0m     f_rep \u001b[38;5;241m+\u001b[39m\u001b[38;5;241m=\u001b[39m np\u001b[38;5;241m.\u001b[39msum(rep_mag \u001b[38;5;241m*\u001b[39m agent_diff \u001b[38;5;241m/\u001b[39m dists_clamped, axis\u001b[38;5;241m=\u001b[39m\u001b[38;5;241m1\u001b[39m)\n\u001b[1;32m     72\u001b[0m     forces[i] \u001b[38;5;241m=\u001b[39m f_attr \u001b[38;5;241m+\u001b[39m f_rep\n\u001b[1;32m     73\u001b[0m \u001b[38;5;28;01mreturn\u001b[39;00m forces\n",
      "\u001b[0;31mValueError\u001b[0m: operands could not be broadcast together with shapes (100,) (100,2) "
     ]
    }
   ],
   "source": [
    "import matplotlib.pyplot as plt\n",
    "import numpy as np\n",
    "\n",
    "from swarm_prm.solvers.micro.apf import APF\n",
    "\n",
    "num_agents = 100\n",
    "\n",
    "# generate per agent trajectory\n",
    "\n",
    "means = np.array([(0., 0.), (1., 0.), (1.5, 1), (2., 2.)])\n",
    "covs = [np.eye(2) for _ in means]\n",
    "\n",
    "samples = np.stack([np.random.multivariate_normal(mean, cov, size=num_agents) \n",
    "           for mean, cov in zip(means, covs)])\n",
    "           \n",
    "paths = np.einsum(\"ijk->jik\", samples)\n",
    "\n",
    "print(\"paths\", paths.shape)\n",
    "\n",
    "trajectories = APF(paths).solve()\n",
    "\n",
    "apf_config = {\n",
    "    \n",
    "}"
   ]
  }
 ],
 "metadata": {
  "kernelspec": {
   "display_name": "SwarmPRM",
   "language": "python",
   "name": "python3"
  },
  "language_info": {
   "codemirror_mode": {
    "name": "ipython",
    "version": 3
   },
   "file_extension": ".py",
   "mimetype": "text/x-python",
   "name": "python",
   "nbconvert_exporter": "python",
   "pygments_lexer": "ipython3",
   "version": "3.12.2"
  }
 },
 "nbformat": 4,
 "nbformat_minor": 5
}
