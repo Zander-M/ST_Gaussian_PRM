{
 "cells": [
  {
   "cell_type": "markdown",
   "id": "de767f5a",
   "metadata": {},
   "source": [
    "# APF"
   ]
  },
  {
   "cell_type": "code",
   "execution_count": null,
   "id": "24c12626",
   "metadata": {},
   "outputs": [],
   "source": [
    "%matplotlib inline"
   ]
  },
  {
   "cell_type": "code",
   "execution_count": null,
   "id": "a287d01e",
   "metadata": {},
   "outputs": [],
   "source": [
    "import numpy as np\n",
    "import matplotlib.pyplot as plt\n",
    "import matplotlib.animation as animation\n",
    "\n",
    "# === PARAMETERS ===\n",
    "NUM_AGENTS = 3\n",
    "GOAL_TOL = 0.1\n",
    "STEP_SIZE = 0.05\n",
    "K_ATTR = 1.0      # Attractive potential gain\n",
    "K_REP = 0.0002       # Repulsive potential gain\n",
    "REPULSION_RADIUS = 0.15\n",
    "\n",
    "# === INITIAL CONDITIONS ===\n",
    "np.random.seed(0)\n",
    "positions = np.array([[1, 0.1], [2, 0], [1.5, 0]], dtype=np.float64)\n",
    "goals = np.array([[1, 0], [1, 0], [1, 0]], dtype=np.float64)\n",
    "\n",
    "# === APF PLANNING FUNCTION ===\n",
    "def compute_apf_forces(pos, goals):\n",
    "    forces = np.zeros_like(pos)\n",
    "    for i in range(len(pos)):\n",
    "        # Attractive force\n",
    "        diff = goals[i] - pos[i]\n",
    "        f_attr = K_ATTR * diff\n",
    "\n",
    "        # Repulsive force from other agents\n",
    "        f_rep = np.zeros(2)\n",
    "        for j in range(len(pos)):\n",
    "            if i == j:\n",
    "                continue\n",
    "            diff_ij = pos[i] - pos[j]\n",
    "            dist = np.linalg.norm(diff_ij)\n",
    "            if dist < REPULSION_RADIUS and dist > 1e-4:\n",
    "                f_rep += K_REP * (1.0 / dist - 1.0 / REPULSION_RADIUS) * (diff_ij / (dist**3))\n",
    "\n",
    "        forces[i] = f_attr + f_rep\n",
    "    return forces\n",
    "\n",
    "# === VISUALIZATION SETUP ===\n",
    "fig, ax = plt.subplots()\n",
    "scat = ax.scatter([], [], c='blue')\n",
    "goal_plot = ax.scatter(goals[:, 0], goals[:, 1], c='green', marker='x')\n",
    "ax.set_xlim(-1, 3)\n",
    "ax.set_ylim(-1, 3)\n",
    "ax.set_aspect('equal')\n",
    "\n",
    "# === SIMULATION LOOP ===\n",
    "def update(frame):\n",
    "    global positions\n",
    "    forces = compute_apf_forces(positions, goals)\n",
    "    positions += STEP_SIZE * forces\n",
    "    scat.set_offsets(positions)\n",
    "    return scat,\n",
    "\n",
    "ani = animation.FuncAnimation(fig, update, frames=200, interval=100, blit=True)\n",
    "plt.title(\"3-Agent APF Navigation\")\n",
    "\n",
    "from IPython.display import HTML\n",
    "HTML(ani.to_jshtml())"
   ]
  }
 ],
 "metadata": {
  "language_info": {
   "name": "python"
  }
 },
 "nbformat": 4,
 "nbformat_minor": 5
}
