{
 "cells": [
  {
   "cell_type": "markdown",
   "metadata": {},
   "source": [
    "# Gaussian Transport Test\n",
    "\n",
    "Given two Gaussian distributions, we randomly sample points from the start distribution and the goal distribution and find the best matching pairs between the nodes"
   ]
  },
  {
   "cell_type": "markdown",
   "metadata": {},
   "source": [
    "## Sampling"
   ]
  },
  {
   "cell_type": "code",
   "execution_count": null,
   "metadata": {},
   "outputs": [],
   "source": [
    "import numpy as np\n",
    "import matplotlib.pyplot as plt\n",
    "from scipy.spatial import KDTree\n",
    "\n",
    "# Define Gaussian parameters\n",
    "mean = [0, 0]  # Center of the Gaussian\n",
    "cov = [[1, 0], [0, 1]]  # Isotropic Gaussian (Circular shape)\n",
    "\n",
    "# Parameters\n",
    "desired_samples = 20  # Fixed number of points to generate\n",
    "num_candidates = 500 # Large candidate pool to ensure enough valid samples\n",
    "min_spacing = 0.2  # Minimum allowed distance between points\n",
    "\n",
    "# Generate candidate samples from 2D Gaussian\n",
    "candidates = np.random.multivariate_normal(mean, cov, num_candidates)\n",
    "\n",
    "# Compute 95% confidence interval boundary (Mahalanobis distance)\n",
    "n_std = 2.4477  # Corresponds to 95% confidence\n",
    "inv_cov = np.linalg.inv(cov)\n",
    "\n",
    "# Function to check if a point is inside the confidence ellipse\n",
    "def is_within_confidence_interval(point, mean, inv_cov, n_std):\n",
    "    delta = point - mean\n",
    "    mahalanobis_distance = np.sqrt(delta.T @ inv_cov @ delta)\n",
    "    return mahalanobis_distance <= n_std\n",
    "\n",
    "# Enforce spacing using KDTree while ensuring a fixed number of points\n",
    "accepted_points = []\n",
    "tree = KDTree([[0, 0]])\n",
    "\n",
    "for point in candidates:\n",
    "    if len(accepted_points) >= desired_samples:  # Stop when we reach the desired number\n",
    "        break\n",
    "    if is_within_confidence_interval(point, mean, inv_cov, n_std):\n",
    "        if len(accepted_points) == 0 or tree.query(point)[0] > min_spacing:\n",
    "            accepted_points.append(point)\n",
    "            tree = KDTree(accepted_points)  # Update KDTree with new point\n",
    "\n",
    "accepted_points = np.array(accepted_points)\n",
    "\n",
    "# Plot results\n",
    "plt.figure(figsize=(6, 6))\n",
    "plt.scatter(accepted_points[:, 0], accepted_points[:, 1], color=\"red\", s=10, label=f\"Sampled Points ({desired_samples})\")\n",
    "\n",
    "# Draw the 95% confidence interval ellipse\n",
    "from matplotlib.patches import Ellipse\n",
    "import matplotlib.transforms as transforms\n",
    "\n",
    "def confidence_ellipse(mean, cov, ax, n_std=2.4477, **kwargs):\n",
    "    \"\"\"Draws an ellipse representing the n_std confidence interval of a Gaussian.\"\"\"\n",
    "    eigvals, eigvecs = np.linalg.eigh(cov)\n",
    "    order = eigvals.argsort()[::-1]\n",
    "    eigvals, eigvecs = eigvals[order], eigvecs[:, order]\n",
    "    width, height = 2 * n_std * np.sqrt(eigvals)\n",
    "    angle = np.degrees(np.arctan2(*eigvecs[:, 0][::-1]))\n",
    "    ellipse = Ellipse(xy=mean, width=width, height=height, angle=angle, **kwargs)\n",
    "    ax.add_patch(ellipse)\n",
    "\n",
    "ax = plt.gca()\n",
    "confidence_ellipse(mean, cov, ax, edgecolor='blue', facecolor='none', linestyle='dashed', label='95% CI')\n",
    "\n",
    "plt.xlabel(\"X\")\n",
    "plt.ylabel(\"Y\")\n",
    "plt.title(f\"Fixed {desired_samples} Points with Minimum Spacing\")\n",
    "plt.xlim(-3, 3)\n",
    "plt.ylim(-3, 3)\n",
    "plt.legend()\n",
    "plt.show()\n"
   ]
  },
  {
   "cell_type": "markdown",
   "metadata": {},
   "source": [
    "## One to One"
   ]
  },
  {
   "cell_type": "code",
   "execution_count": null,
   "metadata": {},
   "outputs": [],
   "source": []
  },
  {
   "cell_type": "markdown",
   "metadata": {},
   "source": [
    "## Split"
   ]
  },
  {
   "cell_type": "code",
   "execution_count": null,
   "metadata": {},
   "outputs": [],
   "source": []
  },
  {
   "cell_type": "markdown",
   "metadata": {},
   "source": [
    "## Merge"
   ]
  },
  {
   "cell_type": "code",
   "execution_count": null,
   "metadata": {},
   "outputs": [],
   "source": []
  }
 ],
 "metadata": {
  "language_info": {
   "name": "python"
  }
 },
 "nbformat": 4,
 "nbformat_minor": 2
}
