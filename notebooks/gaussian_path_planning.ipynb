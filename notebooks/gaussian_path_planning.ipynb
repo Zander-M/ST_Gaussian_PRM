{
 "cells": [
  {
   "cell_type": "markdown",
   "metadata": {},
   "source": [
    "# Gaussian Path Planning test"
   ]
  },
  {
   "cell_type": "code",
   "execution_count": null,
   "metadata": {},
   "outputs": [],
   "source": [
    "%load_ext autoreload\n",
    "%autoreload 2\n",
    "%matplotlib inline"
   ]
  },
  {
   "cell_type": "code",
   "execution_count": null,
   "metadata": {},
   "outputs": [],
   "source": [
    "# Map config\n",
    "\n",
    "map_name = \"corridor\"\n",
    "num_samples = 500\n",
    "\n",
    "# Agent config\n",
    "\n",
    "num_agent = 500\n",
    "agent_radius = 0.6\n",
    "starts = [0, 1]\n",
    "goals = [0, 1]\n",
    "starts_weight = [0.5, 0.5]\n",
    "goals_weight = [0.5, 0.5]\n"
   ]
  },
  {
   "cell_type": "code",
   "execution_count": null,
   "metadata": {},
   "outputs": [],
   "source": [
    "import pickle\n",
    "from swarm_prm.solvers.macro import SOLVER_REGISTRY \n",
    "\n",
    "solver_cls = SOLVER_REGISTRY[\"TEGSolver\"]\n",
    "map_fname = \"maps/{}_{}.pkl\".format(map_name, num_samples)\n",
    "\n",
    "with open(map_fname, \"rb\") as f:\n",
    "    gaussian_prm = pickle.load(f)\n",
    "\n",
    "starts_agent_count = gaussian_prm.get_agent_assignment(num_agent, starts_weight)\n",
    "goals_agent_count = gaussian_prm.get_agent_assignment(num_agent, goals_weight)\n",
    "\n",
    "teg_graph= solver_cls(gaussian_prm, num_agent, agent_radius, \n",
    "                   starts, goals, starts_agent_count, goals_agent_count, \n",
    "                   None, max_time=10)\n",
    "timestep, flow_dict, residual_graph = teg_graph.get_solution()\n",
    "\n",
    "with open(\"solutions/flow_dict.pkl\", \"wb\") as f:\n",
    "    pickle.dump(flow_dict, f)"
   ]
  },
  {
   "cell_type": "code",
   "execution_count": null,
   "metadata": {},
   "outputs": [],
   "source": [
    "import pickle\n",
    "\n",
    "with open(map_fname, \"rb\") as f:\n",
    "    gaussian_prm = pickle.load(f)\n",
    "\n",
    "with open(\"solutions/flow_dict.pkl\", \"rb\") as f:\n",
    "    flow_dict = pickle.load(f)\n",
    "\n",
    "macro_sol = gaussian_prm.get_macro_solution(flow_dict)\n",
    "simple_paths, gaussian_paths = gaussian_prm.get_solution(flow_dict, timestep, num_agent)\n",
    "with open(\"solutions/macro_sol.pkl\", \"wb\") as f:\n",
    "    pickle.dump(macro_sol, f)"
   ]
  },
  {
   "cell_type": "code",
   "execution_count": null,
   "metadata": {},
   "outputs": [],
   "source": [
    "print(len(simple_paths))"
   ]
  },
  {
   "cell_type": "code",
   "execution_count": null,
   "metadata": {},
   "outputs": [],
   "source": [
    "import matplotlib.pyplot as plt\n",
    "fig, ax = gaussian_prm.visualize_g_nodes()\n",
    "\n",
    "# apf_solver.animate_solution(fig, ax)\n",
    "for path in simple_paths:\n",
    "    x_coords = [loc[0] for loc in path]\n",
    "    y_coords = [loc[1] for loc in path]\n",
    "    ax.plot(x_coords, y_coords, '-*', label='Path', color='blue')\n",
    "#\n",
    "plt.show()"
   ]
  },
  {
   "cell_type": "markdown",
   "metadata": {},
   "source": [
    "## Gaussian Trajectory"
   ]
  },
  {
   "cell_type": "code",
   "execution_count": null,
   "metadata": {},
   "outputs": [],
   "source": [
    "import pickle\n",
    "from matplotlib import pyplot as plt\n",
    "from swarm_prm.solvers.micro import GaussianTrajectorySolver\n",
    "\n",
    "with open(map_fname, \"rb\") as f:\n",
    "    gaussian_prm = pickle.load(f)\n",
    "\n",
    "with open(\"solutions/macro_sol.pkl\", \"rb\") as f:\n",
    "    macro_sol = pickle.load(f)\n",
    "\n",
    "timestep = max(macro_sol.keys())\n",
    "\n",
    "gt_solver = GaussianTrajectorySolver(gaussian_prm, macro_sol, timestep, num_agent, starts_agent_count, goals_agent_count, safety_gap=0.2)\n",
    "gt_paths = gt_solver.solve()\n",
    "\n",
    "fig, ax = gaussian_prm.visualize_roadmap()\n",
    "\n",
    "for path in simple_paths:\n",
    "    x_coords = [loc[0] for loc in path]\n",
    "    y_coords = [loc[1] for loc in path]\n",
    "    ax.plot(x_coords, y_coords, '-*', label='Path', color='blue')\n",
    "# \n",
    "cmap = plt.get_cmap(\"tab10\")\n",
    "\n",
    "for i, path in enumerate(gt_paths):\n",
    "    x_coords = [loc[0] for loc in path]\n",
    "    y_coords = [loc[1] for loc in path]\n",
    "    ax.plot(x_coords, y_coords, '--', label='Path', color=cmap(i%10))\n"
   ]
  },
  {
   "cell_type": "code",
   "execution_count": null,
   "metadata": {},
   "outputs": [],
   "source": [
    "plt.show()"
   ]
  },
  {
   "cell_type": "code",
   "execution_count": null,
   "metadata": {},
   "outputs": [],
   "source": [
    "# # Add interpolations \n",
    "# \n",
    "# import numpy as np\n",
    "# \n",
    "# def add_linear_interpolation_points(path, subdiv=5):\n",
    "#     \"\"\"\n",
    "#     Insert linearly-interpolated positions between consecutive points.\n",
    "#     \n",
    "#     Parameters\n",
    "#     ----------\n",
    "#     path : array-like of shape (N, 2)\n",
    "#         The original list/array of N 2D points, e.g. [(x1,y1), (x2,y2), ...].\n",
    "#     subdiv : int\n",
    "#         Number of intervals to subdivide each segment. \n",
    "#         For each original segment, we will add 'subdiv - 1' new interior points \n",
    "#         (except that we skip duplicates at the shared boundary).\n",
    "# \n",
    "#     Returns\n",
    "#     -------\n",
    "#     new_path : np.ndarray of shape (M, 2)\n",
    "#         The new path including the original points and the added interpolation points.\n",
    "#     \"\"\"\n",
    "#     path = np.asarray(path)\n",
    "#     new_path = []\n",
    "# \n",
    "#     # Iterate over pairs of consecutive points\n",
    "#     for i in range(len(path) - 1):\n",
    "#         start = path[i]\n",
    "#         end = path[i + 1]\n",
    "#         \n",
    "#         # Create subdiv+1 points in [start, end] using linspace for each dimension\n",
    "#         xs = np.linspace(start[0], end[0], subdiv + 1)\n",
    "#         ys = np.linspace(start[1], end[1], subdiv + 1)\n",
    "#         \n",
    "#         # Add each intermediate point except the very last one\n",
    "#         # to avoid duplicating the next segment's start\n",
    "#         for j in range(subdiv):\n",
    "#             new_path.append([xs[j], ys[j]])\n",
    "# \n",
    "#     # Finally add the very last point of the last segment\n",
    "#     new_path.append(path[-1].tolist())\n",
    "#     \n",
    "#     return np.array(new_path)\n",
    "# \n",
    "# interpolated_paths = []\n",
    "# for path in gt_paths:\n",
    "#     new_path = add_linear_interpolation_points(path, 50)\n",
    "#     interpolated_paths.append(new_path)\n",
    "# "
   ]
  },
  {
   "cell_type": "code",
   "execution_count": null,
   "metadata": {},
   "outputs": [],
   "source": [
    "# def animate_solution(fig, ax, speed, paths):\n",
    "#     \"\"\"\n",
    "#         Visualize solution trajectory provided instance\n",
    "#     \"\"\"\n",
    "#     \n",
    "#     agents = []\n",
    "#     def init():\n",
    "#         for agent in agents:\n",
    "#             agent.remove()\n",
    "#         agents.clear()\n",
    "#         return []\n",
    "# \n",
    "#     def update(frame):\n",
    "#         idx = frame * speed\n",
    "#         for agent in agents:\n",
    "#             agent.remove()\n",
    "#         agents.clear()\n",
    "#         cmap = plt.get_cmap(\"tab10\")\n",
    "#         locs = [path[idx] for path in paths]\n",
    "#         for i, loc in enumerate(locs):\n",
    "#             agent = ax.add_patch(Circle(loc, radius=agent_radius, color=cmap(i%10)))\n",
    "#             agents.append(agent)\n",
    "#         return agents\n",
    "# \n",
    "#     anim = FuncAnimation(fig, update, frames=len(paths[0])// speed , \n",
    "#                          init_func=init, blit=True, interval=10)\n",
    "#     anim.save(\"solutions/apf_solution.gif\", writer='pillow', fps=6)\n",
    "# \n",
    "# # fig, ax = instance.visualize()\n",
    "# fig, ax = gaussian_prm.visualize_g_nodes()\n",
    "# animate_solution(fig, ax, 10, interpolated_paths)"
   ]
  }
 ],
 "metadata": {
  "language_info": {
   "name": "python"
  }
 },
 "nbformat": 4,
 "nbformat_minor": 2
}
