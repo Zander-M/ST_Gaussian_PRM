{
 "cells": [
  {
   "cell_type": "markdown",
   "metadata": {},
   "source": [
    "# Performance Comparison"
   ]
  },
  {
   "cell_type": "markdown",
   "metadata": {},
   "source": [
    "## Map Generation"
   ]
  },
  {
   "cell_type": "code",
   "execution_count": null,
   "metadata": {},
   "outputs": [],
   "source": [
    "# Imports\n",
    "\n",
    "import os\n",
    "import pickle\n",
    "import numpy as np\n",
    "\n",
    "from swarm_prm.solvers.utils.gaussian_prm import GaussianPRM\n",
    "from swarm_prm.solvers.utils.gaussian_utils import GaussianGraphNode\n",
    "from swarm_prm.envs.roadmap import Roadmap, Obstacle \n",
    "from swarm_prm.envs.instance import Instance"
   ]
  },
  {
   "cell_type": "markdown",
   "metadata": {},
   "source": [
    "### Empty Map"
   ]
  },
  {
   "cell_type": "code",
   "execution_count": null,
   "metadata": {},
   "outputs": [],
   "source": [
    "roadmap = Roadmap(100, 100)\n",
    "safety_radius = 2 \n",
    "pos = np.array([50, 50])\n",
    "obstacles  = []\n",
    "\n",
    "num_samples = 400\n",
    "\n",
    "for obs in obstacles:\n",
    "    roadmap.add_obstacle(obs)\n",
    "start_mean = np.random.rand(2) * 100\n",
    "goal_mean = np.random.rand(2) * 100\n",
    "\n",
    "# Agent config\n",
    "sampling_method = \"GAUSSIAN_SAMPLING\"\n",
    "hex_radius = 3\n",
    "TEST_CVAR = False\n",
    "\n",
    "\n",
    "# Curated test instance\n",
    "starts = np.array([[10, 10], [10, 90]])\n",
    "goals = np.array([[90, 90], [90, 10]])\n",
    "\n",
    "starts_weight = np.array([.5, .5])\n",
    "goals_weight = np.array([.5, .5])\n",
    "\n",
    "g_starts = [GaussianGraphNode(start, None, \"UNIFORM\", radius=10) for start in starts]\n",
    "g_goals = [GaussianGraphNode(goal, None, \"UNIFORM\", radius=10) for goal in goals]\n",
    "\n",
    "instance = Instance(roadmap, g_starts, g_goals, starts_weight, goals_weight)\n",
    "\n",
    "gaussian_prm = GaussianPRM(instance, num_samples, safety_radius=safety_radius,\n",
    "                           hex_radius=hex_radius)\n",
    "gaussian_prm.roadmap_construction()\n",
    "gaussian_prm.visualize_g_nodes()\n",
    "map_fname = \"empty_{}.pkl\".format(num_samples)\n",
    "\n",
    "path = os.path.join(\"maps\", map_fname)\n",
    "\n",
    "with open(path, \"wb\") as f:\n",
    "    pickle.dump(gaussian_prm, f)\n"
   ]
  },
  {
   "cell_type": "markdown",
   "metadata": {},
   "source": [
    "### Corridor Map"
   ]
  },
  {
   "cell_type": "code",
   "execution_count": null,
   "metadata": {},
   "outputs": [],
   "source": [
    "roadmap = Roadmap(100, 100)\n",
    "safety_radius = 2 \n",
    "pos = np.array([50, 50])\n",
    "obstacles  = [\n",
    "    Obstacle(None, \"POLYGON\", [(30, 0), (30, 40), (70, 40), (70, 0)]),\n",
    "    Obstacle(None, \"POLYGON\", [(30, 100), (30, 60), (70, 60), (70, 100)])\n",
    "]\n",
    "num_samples = 200\n",
    "for obs in obstacles:\n",
    "    roadmap.add_obstacle(obs)\n",
    "# fig, ax = roadmap.visualize()\n",
    "start_mean = np.random.rand(2) * 100\n",
    "goal_mean = np.random.rand(2) * 100\n",
    "\n",
    "# Agent config\n",
    "sampling_method = \"GAUSSIAN_SAMPLING\"\n",
    "hex_radius = 3\n",
    "TEST_CVAR = False\n",
    "\n",
    "\n",
    "# Curated test instance\n",
    "starts = np.array([[10, 10], [10, 90]])\n",
    "goals = np.array([[90, 90], [90, 10]])\n",
    "\n",
    "starts_weight = np.array([.5, .5])\n",
    "goals_weight = np.array([.5, .5])\n",
    "\n",
    "g_starts = [GaussianGraphNode(start, None, \"UNIFORM\", radius=10) for start in starts]\n",
    "g_goals = [GaussianGraphNode(goal, None, \"UNIFORM\", radius=10) for goal in goals]\n",
    "\n",
    "instance = Instance(roadmap, g_starts, g_goals, starts_weight, goals_weight)\n",
    "\n",
    "gaussian_prm = GaussianPRM(instance, num_samples, safety_radius=safety_radius,\n",
    "                           hex_radius=hex_radius)\n",
    "gaussian_prm.roadmap_construction()\n",
    "gaussian_prm.visualize_g_nodes()\n",
    "\n",
    "\n",
    "map_fname = \"corridor_{}.pkl\".format(num_samples)\n",
    "path = os.path.join(\"maps\", map_fname)\n",
    "with open(path, \"wb\") as f:\n",
    "    pickle.dump(gaussian_prm, f)\n"
   ]
  },
  {
   "cell_type": "markdown",
   "metadata": {},
   "source": [
    "### Obstacle Map"
   ]
  },
  {
   "cell_type": "code",
   "execution_count": null,
   "metadata": {},
   "outputs": [],
   "source": [
    "# Replicate of map from SwarmCVT\n",
    "\n",
    "roadmap = Roadmap(200, 160)\n",
    "safety_radius = 2 \n",
    "pos = np.array([50, 50])\n",
    "obstacles  = [\n",
    "    Obstacle(None, \"POLYGON\", [(50, 0), (60, 75), (75, 75), (90, 40), (90, 0)]),\n",
    "    Obstacle(None, \"POLYGON\", [(50, 130), (75, 127), (80, 100), (55, 103)]),\n",
    "    Obstacle(None, \"POLYGON\", [(100, 150), (140, 150), (140, 125), (110, 125)]),\n",
    "    Obstacle(None, \"POLYGON\", [(145, 25), (125, 50), (135, 100), (150, 100), (160, 75), (150, 25)])\n",
    "]\n",
    "\n",
    "num_samples = 200 \n",
    "for obs in obstacles:\n",
    "    roadmap.add_obstacle(obs)\n",
    "sampling_method = \"GAUSSIAN_SAMPLING\"\n",
    "hex_radius = 6\n",
    "\n",
    "\n",
    "# Curated test instance\n",
    "starts = np.array([[25, 25], [25, 125]])\n",
    "goals = np.array([[175, 125], [175, 50]])\n",
    "\n",
    "starts_weight = np.array([.5, .5])\n",
    "goals_weight = np.array([.3, .7])\n",
    "\n",
    "g_starts = [GaussianGraphNode(start, None, \"UNIFORM\", 10) for start in starts]\n",
    "g_goals = [GaussianGraphNode(goal, None, \"UNIFORM\", 10) for goal in goals]\n",
    "\n",
    "instance = Instance(roadmap, g_starts, g_goals, starts_weight, goals_weight)\n",
    "\n",
    "gaussian_prm = GaussianPRM(instance, num_samples, safety_radius=safety_radius,\n",
    "                           hex_radius=hex_radius)\n",
    "gaussian_prm.roadmap_construction()\n",
    "\n",
    "map_fname = \"obstacle_{}.pkl\".format(num_samples)\n",
    "path = os.path.join(\"maps\", map_fname)\n",
    "with open(path, \"wb\") as f:\n",
    "    pickle.dump(gaussian_prm, f)"
   ]
  },
  {
   "cell_type": "markdown",
   "metadata": {},
   "source": [
    "### "
   ]
  },
  {
   "cell_type": "markdown",
   "metadata": {},
   "source": [
    "## Performance Testing"
   ]
  },
  {
   "cell_type": "code",
   "execution_count": null,
   "metadata": {},
   "outputs": [],
   "source": [
    "# Agent config\n",
    "num_agent = 100\n",
    "agent_radius = 0.5\n",
    "\n",
    "# Map config\n",
    "map_type = \"empty\"\n",
    "num_samples = 50\n",
    "num_samples = 100\n",
    "num_samples = 200\n",
    "num_samples = 400"
   ]
  },
  {
   "cell_type": "code",
   "execution_count": null,
   "metadata": {},
   "outputs": [],
   "source": [
    "# Load map\n",
    "\n",
    "import os\n",
    "import pickle\n",
    "\n",
    "map_fname = \"{}_{}.pkl\".format(map_type, num_samples)\n",
    "fname = os.path.join(\"maps\", map_fname)\n",
    "with open(fname, \"rb\") as f:\n",
    "    gaussian_prm = pickle.load(f)"
   ]
  },
  {
   "cell_type": "code",
   "execution_count": null,
   "metadata": {},
   "outputs": [],
   "source": [
    "# TEG\n",
    "from swarm_prm.solvers.macro.teg import TEGGraph \n",
    "\n",
    "teg_graph= TEGGraph(gaussian_prm, agent_radius, num_agents=num_agent, max_timestep=500)\n",
    "max_flow, flow_dict, timestep, teg, paths, residual_graph = teg_graph.get_earliest_timestep()"
   ]
  },
  {
   "cell_type": "code",
   "execution_count": null,
   "metadata": {},
   "outputs": [],
   "source": [
    "import pickle\n",
    "from matplotlib import pyplot as plt\n",
    "from swarm_prm.solvers.micro import GaussianTrajectorySolver\n",
    "\n",
    "simple_paths, _ = gaussian_prm.get_solution(flow_dict, timestep, num_agent)\n",
    "macro_solution = gaussian_prm.get_macro_solution(flow_dict)\n",
    "\n",
    "timestep = max(macro_solution.keys())\n",
    "\n",
    "gt_solver = GaussianTrajectorySolver(gaussian_prm, macro_solution, timestep, num_agent, safety_gap=0)\n",
    "gt_paths = gt_solver.solve()\n",
    "fig, ax = instance.visualize()\n",
    "\n",
    "for path in simple_paths:\n",
    "    x_coords = [loc[0] for loc in path]\n",
    "    y_coords = [loc[1] for loc in path]\n",
    "    ax.plot(x_coords, y_coords, '-*', label='Path', color='blue')\n",
    "# \n",
    "cmap = plt.get_cmap(\"tab10\")\n",
    "# \n",
    "for i, path in enumerate(gt_paths):\n",
    "    x_coords = [loc[0] for loc in path]\n",
    "    y_coords = [loc[1] for loc in path]\n",
    "    ax.plot(x_coords, y_coords, '--', label='Path', color=cmap(i%10))"
   ]
  },
  {
   "cell_type": "code",
   "execution_count": null,
   "metadata": {},
   "outputs": [],
   "source": [
    "# DRRT \n",
    "from swarm_prm.solvers.macro.drrt import DRRT\n",
    "\n",
    "drrt_solver = DRRT(gaussian_prm, agent_radius, num_agent)\n",
    "path, cost= drrt_solver.get_solution()\n"
   ]
  },
  {
   "cell_type": "markdown",
   "metadata": {},
   "source": [
    "## Export Results"
   ]
  }
 ],
 "metadata": {
  "kernelspec": {
   "display_name": "SwarmPRM",
   "language": "python",
   "name": "python3"
  },
  "language_info": {
   "codemirror_mode": {
    "name": "ipython",
    "version": 3
   },
   "file_extension": ".py",
   "mimetype": "text/x-python",
   "name": "python",
   "nbconvert_exporter": "python",
   "pygments_lexer": "ipython3",
   "version": "3.12.4"
  }
 },
 "nbformat": 4,
 "nbformat_minor": 2
}
