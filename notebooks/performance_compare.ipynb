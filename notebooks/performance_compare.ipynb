{
 "cells": [
  {
   "cell_type": "markdown",
   "metadata": {},
   "source": [
    "# Performance Comparison"
   ]
  },
  {
   "cell_type": "code",
   "execution_count": null,
   "metadata": {},
   "outputs": [],
   "source": [
    "# Agent config\n",
    "num_agents = 400\n",
    "agent_radius = 0.5\n",
    "\n",
    "# Map config\n",
    "map_type = \"cross\" # Available maps: empty, corridor, obstacle, cross\n",
    "num_samples = 200     # Available num_agent: 50, 100, 200, 400, 500\n",
    "\n"
   ]
  },
  {
   "cell_type": "code",
   "execution_count": null,
   "metadata": {},
   "outputs": [],
   "source": [
    "# Load map and instance\n",
    "import os\n",
    "import pickle\n",
    "\n",
    "from swarm_prm.utils.agent_assignment import get_agent_assignment\n",
    "\n",
    "map_fname = \"{}_{}.pkl\".format(map_type, num_samples)\n",
    "fname = os.path.join(\"maps\", map_fname)\n",
    "with open(fname, \"rb\") as f:\n",
    "    gaussian_prm = pickle.load(f)\n",
    "\n",
    "# Instance config\n",
    "starts_weight = [0.5, 0.5]\n",
    "goals_weight = [0.5, 0.5]\n",
    "\n",
    "starts_agent_count = get_agent_assignment(num_agents, starts_weight)\n",
    "goals_agent_count = get_agent_assignment(num_agents, goals_weight)"
   ]
  },
  {
   "cell_type": "code",
   "execution_count": null,
   "metadata": {},
   "outputs": [],
   "source": [
    "# TEG\n",
    "from swarm_prm.solvers.macro.teg import TEG\n",
    "\n",
    "teg_graph= TEG(gaussian_prm, agent_radius, \n",
    "               starts_agent_count=starts_agent_count, goals_agent_count=goals_agent_count,\n",
    "               num_agents=num_agents, max_timestep=500)\n",
    "timestep, flow_dict, residual_dict= teg_graph.get_earliest_timestep()"
   ]
  },
  {
   "cell_type": "code",
   "execution_count": null,
   "metadata": {},
   "outputs": [],
   "source": [
    "from matplotlib import pyplot as plt\n",
    "from swarm_prm.solvers.micro import GaussianTrajectorySolver\n",
    "\n",
    "simple_paths, _ = gaussian_prm.get_solution(flow_dict, timestep, num_agents)\n",
    "macro_solution = gaussian_prm.get_macro_solution(flow_dict)\n",
    "\n",
    "timestep = max(macro_solution.keys())\n",
    "\n",
    "gt_solver = GaussianTrajectorySolver(gaussian_prm, macro_solution, timestep, num_agents, \n",
    "                                     starts_agent_count=starts_agent_count,\n",
    "                                     goals_agent_count=goals_agent_count,\n",
    "                                     safety_gap=0)\n",
    "\n",
    "gt_paths = gt_solver.solve()\n",
    "fig, ax = gaussian_prm.visualize_g_nodes()\n",
    "\n",
    "for path in simple_paths:\n",
    "    x_coords = [loc[0] for loc in path]\n",
    "    y_coords = [loc[1] for loc in path]\n",
    "    ax.plot(x_coords, y_coords, '-*', label='Path', color='blue')\n",
    "# \n",
    "cmap = plt.get_cmap(\"tab10\")\n",
    "# \n",
    "for i, path in enumerate(gt_paths):\n",
    "    x_coords = [loc[0] for loc in path]\n",
    "    y_coords = [loc[1] for loc in path]\n",
    "    ax.plot(x_coords, y_coords, '--', label='Path', color=cmap(i%10))\n",
    "\n",
    "plt.show()"
   ]
  }
 ],
 "metadata": {
  "language_info": {
   "name": "python"
  }
 },
 "nbformat": 4,
 "nbformat_minor": 2
}
