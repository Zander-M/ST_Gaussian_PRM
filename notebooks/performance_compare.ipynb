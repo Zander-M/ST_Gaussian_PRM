{
 "cells": [
  {
   "cell_type": "markdown",
   "metadata": {},
   "source": [
    "# Performance Comparison"
   ]
  },
  {
   "cell_type": "code",
   "execution_count": null,
   "metadata": {},
   "outputs": [],
   "source": [
    "# Agent config\n",
    "num_agents = 100\n",
    "agent_radius = 0.1  \n",
    "\n",
    "# Map config\n",
    "map_type = \"obstacle\" # Available maps: empty, corridor, obstacle, cross\n",
    "num_samples = 500    # Available num_samples: 100, 200, 300, 400, 500\n",
    "\n",
    "# Instance config, ratio of starts and goals\n",
    "\n",
    "starts_weight = [0.5, 0.5]\n",
    "goals_weight = [0.2, 0.8]\n"
   ]
  },
  {
   "cell_type": "code",
   "execution_count": null,
   "metadata": {},
   "outputs": [],
   "source": [
    "# Load map and instance\n",
    "import os\n",
    "import pickle\n",
    "\n",
    "from swarm_prm.utils.agent_assignment import get_agent_assignment\n",
    "\n",
    "map_fname = \"{}_{}.pkl\".format(map_type, num_samples)\n",
    "fname = os.path.join(\"../maps\", map_fname)\n",
    "with open(fname, \"rb\") as f:\n",
    "    gaussian_prm = pickle.load(f)\n",
    "\n",
    "starts_agent_count = get_agent_assignment(num_agents, starts_weight)\n",
    "goals_agent_count = get_agent_assignment(num_agents, goals_weight)\n",
    "\n",
    "print(starts_agent_count, goals_agent_count)"
   ]
  },
  {
   "cell_type": "code",
   "execution_count": null,
   "metadata": {},
   "outputs": [],
   "source": [
    "from swarm_prm.solvers.macro import SOLVER_REGISTRY\n",
    "\n",
    "# solver_cls = SOLVER_REGISTRY[\"FormationControlSolver\"]\n",
    "solver_cls = SOLVER_REGISTRY[\"TEGSolver\"]\n",
    "\n",
    "solver = solver_cls(gaussian_prm, agent_radius, \n",
    "              starts_agent_count=starts_agent_count, goals_agent_count=goals_agent_count,\n",
    "               num_agents=num_agents, time_limit=10)\n",
    "solution = solver.solve()\n",
    "assert solution[\"success\"], \"solver failed.\"\n",
    "timestep = solution[\"timestep\"]\n",
    "paths = solution[\"paths\"]\n",
    "g_nodes = solution[\"g_nodes\"]\n",
    "starts_idx = solution[\"starts_idx\"]\n",
    "goals_idx = solution[\"goals_idx\"]"
   ]
  },
  {
   "cell_type": "code",
   "execution_count": null,
   "metadata": {},
   "outputs": [],
   "source": [
    "from matplotlib import pyplot as plt\n",
    "from swarm_prm.utils import paths_to_macro\n",
    "from swarm_prm.solvers.micro import EvaluationSolver\n",
    "\n",
    "macro_solution = paths_to_macro(paths)\n",
    "\n",
    "timestep = max(macro_solution.keys())\n",
    "\n",
    "solver = EvaluationSolver(g_nodes, macro_solution, agent_radius, timestep, \n",
    "                                     num_agents, \n",
    "                                     starts_idx,\n",
    "                                     goals_idx,\n",
    "                                     starts_agent_count,\n",
    "                                     goals_agent_count\n",
    "                                     )\n",
    "\n",
    "single_agent_paths, cost = solver.solve()\n",
    "fig, ax = gaussian_prm.visualize_map()\n",
    "\n",
    "cmap = plt.get_cmap(\"rainbow\")\n",
    "colors = [cmap(i / num_agents) for i in range(num_agents)]\n",
    "\n",
    "for i, path in enumerate(single_agent_paths):\n",
    "    x_coords = [loc[0] for loc in path]\n",
    "    y_coords = [loc[1] for loc in path]\n",
    "    ax.plot(x_coords, y_coords, '-', label='Path', color=colors[i], linewidth=0.8, alpha=0.8)\n",
    "\n",
    "plt.show()"
   ]
  },
  {
   "cell_type": "code",
   "execution_count": null,
   "metadata": {},
   "outputs": [],
   "source": [
    "# Simulate with APF\n",
    "from swarm_prm.solvers.micro.apf import APFWaypointSolver\n",
    "\n",
    "apf_solver = APFWaypointSolver(gaussian_prm.raw_map, single_agent_paths, agent_radius,\n",
    "                                attract_coeff=1,\n",
    "                                agent_repel_coeff=0.2,\n",
    "                                repel_coeff=0.5,\n",
    "                                obs_thresh=1,\n",
    "                                step_size=0.5,\n",
    "                                reach_dist=5,\n",
    "                                max_timestep_iter=1000\n",
    "                               )\n",
    "paths = apf_solver.get_solution()"
   ]
  },
  {
   "cell_type": "code",
   "execution_count": null,
   "metadata": {},
   "outputs": [],
   "source": [
    "fig, ax = gaussian_prm.visualize_map()\n",
    "for i, path in enumerate(paths):\n",
    "    x_coords = [loc[0] for loc in path]\n",
    "    y_coords = [loc[1] for loc in path]\n",
    "    ax.plot(x_coords, y_coords, '-', label='Path', color=colors[i], linewidth=0.8, alpha=0.8)\n",
    "\n",
    "plt.show()"
   ]
  },
  {
   "cell_type": "code",
   "execution_count": null,
   "metadata": {},
   "outputs": [],
   "source": [
    "# Animate path\n",
    "from IPython.display import Image\n",
    "\n",
    "fig_path = \"solutions\"\n",
    "fig, ax = gaussian_prm.visualize_map()\n",
    "apf_solver.animate_solution(paths, fig, ax, fig_path=fig_path)\n",
    "Image(filename=\"solutions/apf_solution.gif\")\n",
    "\n"
   ]
  }
 ],
 "metadata": {
  "language_info": {
   "name": "python"
  }
 },
 "nbformat": 4,
 "nbformat_minor": 2
}
