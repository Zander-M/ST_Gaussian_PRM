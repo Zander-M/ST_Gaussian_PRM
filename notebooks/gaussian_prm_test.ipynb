{
 "cells": [
  {
   "cell_type": "markdown",
   "metadata": {},
   "source": [
    "# Gaussian PRM test"
   ]
  },
  {
   "cell_type": "code",
   "execution_count": null,
   "metadata": {},
   "outputs": [],
   "source": [
    "import pickle\n",
    "import numpy as np\n",
    "\n",
    "from swarm_prm.utils.gaussian_prm import GaussianPRM\n",
    "from swarm_prm.utils.gaussian_utils import GaussianGraphNode\n",
    "from swarm_prm.envs.roadmap import Roadmap, Obstacle \n",
    "from swarm_prm.envs.instance import Instance"
   ]
  },
  {
   "cell_type": "code",
   "execution_count": null,
   "metadata": {},
   "outputs": [],
   "source": [
    "\n",
    "roadmap = Roadmap(100, 100)\n",
    "safety_radius = 2 \n",
    "pos = np.array([50, 50])\n",
    "obstacles  = [\n",
    "    Obstacle(None, \"POLYGON\", [(30, 0), (30, 45), (70, 45), (70, 0)]),\n",
    "    Obstacle(None, \"POLYGON\", [(30, 100), (30, 55), (70, 55), (70, 100)])\n",
    "]\n",
    "num_samples =500 \n",
    "for obs in obstacles:\n",
    "    roadmap.add_obstacle(obs)\n",
    "# fig, ax = roadmap.visualize()\n",
    "start_mean = np.random.rand(2) * 100\n",
    "goal_mean = np.random.rand(2) * 100\n",
    "\n",
    "# Agent config\n",
    "num_agent = 100\n",
    "agent_radius = 2\n",
    "sampling_method = \"GAUSSIAN_SAMPLING\"\n",
    "#sampling_method = \"SWARMPRM_SAMPLING\"\n",
    "hex_radius = 3\n",
    "TEST_CVAR = False\n",
    "\n",
    "\n",
    "# Curated test instance\n",
    "starts = np.array([[10, 10], [10, 90]])\n",
    "goals = np.array([[90, 90], [90, 10]])\n",
    "\n",
    "starts_weight = np.array([.5, .5])\n",
    "goals_weight = np.array([.5, .5])\n",
    "\n",
    "g_starts = [GaussianGraphNode(start, None, \"UNIFORM\", radius=10) for start in starts]\n",
    "g_goals = [GaussianGraphNode(goal, None, \"UNIFORM\", radius=10) for goal in goals]\n",
    "\n",
    "instance = Instance(roadmap, g_starts, g_goals)\n",
    "gaussian_prm = GaussianPRM(instance, num_samples, safety_radius=safety_radius,\n",
    "                           hex_radius=hex_radius)\n",
    "\n",
    "\n",
    "gaussian_prm.sample_free_space(sampling_strategy=\"CVT\")\n",
    "gaussian_prm.build_roadmap(roadmap_method=\"TRIANGULATION\")\n",
    "\n",
    "gaussian_prm.build_roadmap(roadmap_method=\"TRIANGULATION\", radius=50, collision_check_method=\"CVAR\")\n",
    "fig, ax = gaussian_prm.visualize_roadmap(\"test_map\")\n",
    "gaussian_prm.visualize_g_nodes()\n",
    "\n",
    "with open(\"solutions/gaussian_prm.pkl\", \"wb\") as f:\n",
    "    pickle.dump(gaussian_prm, f)\n"
   ]
  },
  {
   "cell_type": "code",
   "execution_count": null,
   "metadata": {},
   "outputs": [],
   "source": [
    "from scipy.spatial import KDTree\n",
    "\n",
    "kd_tree = KDTree(gaussian_prm.samples)\n",
    "kd_tree.query([10, 20])\n",
    "gaussian_prm.samples[22]\n"
   ]
  }
 ],
 "metadata": {
  "kernelspec": {
   "display_name": "SwarmPRM",
   "language": "python",
   "name": "python3"
  },
  "language_info": {
   "codemirror_mode": {
    "name": "ipython",
    "version": 3
   },
   "file_extension": ".py",
   "mimetype": "text/x-python",
   "name": "python",
   "nbconvert_exporter": "python",
   "pygments_lexer": "ipython3",
   "version": "3.12.4"
  }
 },
 "nbformat": 4,
 "nbformat_minor": 2
}
