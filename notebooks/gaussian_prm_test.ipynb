{
 "cells": [
  {
   "cell_type": "markdown",
   "metadata": {},
   "source": [
    "# Gaussian PRM test"
   ]
  },
  {
   "cell_type": "code",
   "execution_count": null,
   "metadata": {},
   "outputs": [],
   "source": [
    "import pickle\n",
    "\n",
    "from swarm_prm.solvers.utils.gaussian_prm import *\n",
    "from swarm_prm.envs.map import Map, Obstacle \n",
    "from swarm_prm.envs.instance import Instance\n",
    "\n",
    "roadmap = Map(100, 100)\n",
    "safety_radius = 2 \n",
    "pos = np.array([50, 50])\n",
    "obstacles  = [\n",
    "    Obstacle(None, \"POLYGON\", [(40, 0), (40, 40), (80, 40), (80, 0)]),\n",
    "    Obstacle(None, \"POLYGON\", [(40, 100), (40, 50), (80, 50), (80, 100)])\n",
    "]\n",
    "num_samples = 100 \n",
    "for obs in obstacles:\n",
    "    roadmap.add_obstacle(obs)\n",
    "# fig, ax = roadmap.visualize()\n",
    "start_mean = np.random.rand(2) * 100\n",
    "goal_mean = np.random.rand(2) * 100\n",
    "\n",
    "# Agent config\n",
    "num_agent = 50\n",
    "agent_radius = 2\n",
    "sampling_method = \"GAUSSIAN_SAMPLING\"\n",
    "#sampling_method = \"SWARMPRM_SAMPLING\"\n",
    "hex_radius = 3\n",
    "TEST_CVAR = False\n",
    "\n",
    "\n",
    "# Curated test instance\n",
    "starts = np.array([[10, 10], [10, 90]])\n",
    "goals = np.array([[90, 90], [90, 10]])\n",
    "\n",
    "starts_weight = np.array([.5, .5])\n",
    "goals_weight = np.array([.5, .5])\n",
    "\n",
    "g_starts = [GaussianGraphNode(start, np.identity(2)*10) for start in starts]\n",
    "g_goals = [GaussianGraphNode(goal, np.identity(2)*10) for goal in goals]\n",
    "\n",
    "instance = Instance(roadmap, g_starts, g_goals, starts_weight, goals_weight, num_agent)\n",
    "\n",
    "gaussian_prm = GaussianPRM(instance, num_samples, safety_radius=safety_radius,\n",
    "                           hex_radius=hex_radius)\n",
    "gaussian_prm.sample_free_space(sampling_strategy=\"HEXAGON\")\n",
    "gaussian_prm.load_instance()\n",
    "gaussian_prm.build_roadmap(roadmap_method=\"TRIANGULATION\", collision_check_method=\"CVAR\")\n",
    "gaussian_prm.visualize_roadmap(\"test_map\")\n",
    "gaussian_prm.visualize_g_nodes(\"test_g_nodes\")\n",
    "\n",
    "with open(\"gaussian_prm.pkl\", \"wb\") as f:\n",
    "    pickle.dump(gaussian_prm, f)\n"
   ]
  },
  {
   "cell_type": "code",
   "execution_count": 1,
   "metadata": {},
   "outputs": [
    {
     "ename": "NameError",
     "evalue": "name 'gaussian_prm' is not defined",
     "output_type": "error",
     "traceback": [
      "\u001b[0;31m---------------------------------------------------------------------------\u001b[0m",
      "\u001b[0;31mNameError\u001b[0m                                 Traceback (most recent call last)",
      "Cell \u001b[0;32mIn[1], line 3\u001b[0m\n\u001b[1;32m      1\u001b[0m \u001b[38;5;28;01mfrom\u001b[39;00m \u001b[38;5;21;01mscipy\u001b[39;00m\u001b[38;5;21;01m.\u001b[39;00m\u001b[38;5;21;01mspatial\u001b[39;00m \u001b[38;5;28;01mimport\u001b[39;00m KDTree\n\u001b[0;32m----> 3\u001b[0m kd_tree \u001b[38;5;241m=\u001b[39m KDTree(\u001b[43mgaussian_prm\u001b[49m\u001b[38;5;241m.\u001b[39msamples)\n\u001b[1;32m      4\u001b[0m kd_tree\u001b[38;5;241m.\u001b[39mquery([\u001b[38;5;241m10\u001b[39m, \u001b[38;5;241m20\u001b[39m])\n\u001b[1;32m      5\u001b[0m gaussian_prm\u001b[38;5;241m.\u001b[39msamples[\u001b[38;5;241m22\u001b[39m]\n",
      "\u001b[0;31mNameError\u001b[0m: name 'gaussian_prm' is not defined"
     ]
    }
   ],
   "source": [
    "from scipy.spatial import KDTree\n",
    "\n",
    "kd_tree = KDTree(gaussian_prm.samples)\n",
    "kd_tree.query([10, 20])\n",
    "gaussian_prm.samples[22]\n"
   ]
  }
 ],
 "metadata": {
  "kernelspec": {
   "display_name": "SwarmPRM",
   "language": "python",
   "name": "python3"
  },
  "language_info": {
   "codemirror_mode": {
    "name": "ipython",
    "version": 3
   },
   "file_extension": ".py",
   "mimetype": "text/x-python",
   "name": "python",
   "nbconvert_exporter": "python",
   "pygments_lexer": "ipython3",
   "version": "3.12.4"
  }
 },
 "nbformat": 4,
 "nbformat_minor": 2
}
