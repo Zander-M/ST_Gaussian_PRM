{
 "cells": [
  {
   "cell_type": "markdown",
   "metadata": {},
   "source": [
    "# Gaussian PRM test"
   ]
  },
  {
   "cell_type": "code",
   "execution_count": null,
   "metadata": {},
   "outputs": [],
   "source": [
    "import pickle\n",
    "import numpy as np\n",
    "\n",
    "from swarm_prm.utils.gaussian_prm import GaussianPRM\n",
    "from swarm_prm.utils.gaussian_utils import GaussianGraphNode\n",
    "from swarm_prm.envs.obstacle_map import ObstacleMap, Obstacle "
   ]
  },
  {
   "cell_type": "code",
   "execution_count": null,
   "metadata": {},
   "outputs": [],
   "source": [
    "\n",
    "roadmap = ObstacleMap(200, 160)\n",
    "safety_radius = 2 \n",
    "pos = np.array([50, 50])\n",
    "obstacles  = [\n",
    "                Obstacle(None, \"POLYGON\", [(50, 160), (50, 80), (70, 80), (70, 160)]),\n",
    "                Obstacle(None, \"POLYGON\", [(70, 160), (70, 120), (150, 120), (150, 160)]),\n",
    "                Obstacle(None, \"POLYGON\", [(50, 40), (50, 0), (130, 0), (130, 40)]),\n",
    "                Obstacle(None, \"POLYGON\", [(130, 80), (130, 0), (150, 0), (150, 80)]),\n",
    "                Obstacle(None, \"POLYGON\", [(95, 100), (95, 80), (105, 80), (110, 100)]),\n",
    "                Obstacle(None, \"POLYGON\", [(95, 80), (90, 60), (105, 60), (105, 80)]),\n",
    "]\n",
    "\n",
    "num_samples = 200 \n",
    "\n",
    "for obs in obstacles:\n",
    "    roadmap.add_obstacle(obs)\n",
    "# fig, ax = roadmap.visualize()\n",
    "start_mean = np.random.rand(2) * 100\n",
    "goal_mean = np.random.rand(2) * 100\n",
    "\n",
    "# Agent config\n",
    "num_agent = 100\n",
    "agent_radius = 2\n",
    "sampling_method = \"GAUSSIAN_SAMPLING\"\n",
    "#sampling_method = \"SWARMPRM_SAMPLING\"\n",
    "hex_radius = 3\n",
    "TEST_CVAR = False\n",
    "\n",
    "gaussian_prm = GaussianPRM(obstacle_map=roadmap, num_samples=num_samples)\n",
    "\n",
    "gaussian_prm.sample_free_space(sampling_strategy=\"CVT\")\n",
    "gaussian_prm.build_roadmap(roadmap_method=\"TRIANGULATION\")\n",
    "\n",
    "gaussian_prm.build_roadmap(roadmap_method=\"TRIANGULATION\", radius=50, collision_check_method=\"CVAR\")\n",
    "fig, ax = gaussian_prm.visualize_roadmap(\"test_map\")\n",
    "gaussian_prm.visualize_g_nodes()\n",
    "\n",
    "with open(\"solutions/gaussian_prm.pkl\", \"wb\") as f:\n",
    "    pickle.dump(gaussian_prm, f)\n"
   ]
  },
  {
   "cell_type": "code",
   "execution_count": null,
   "metadata": {},
   "outputs": [],
   "source": [
    "from shapely.geometry import Polygon\n",
    "start_region = [Polygon([[0, 160], [0, 0], [50, 0], [50, 160]])]\n",
    "goal_region = [Polygon([[150, 160], [150, 0], [200, 0], [200, 160]])]\n",
    "\n",
    "start_indices = gaussian_prm.get_node_index(start_region)\n",
    "goal_indices = gaussian_prm.get_node_index(goal_region)\n",
    "\n",
    "fig, ax = gaussian_prm.visualize_g_nodes()\n",
    "\n",
    "# Randomly picking starts and goals\n",
    "\n",
    "num_starts = 20\n",
    "num_goals = 20\n",
    "\n",
    "starts = np.random.choice(start_indices, num_starts)\n",
    "goals = np.random.choice(goal_indices, num_goals)\n",
    "\n",
    "# Verify start capacity and goal capacity\n",
    "\n",
    "start_capacity = 0\n",
    "for start in starts:\n",
    "    start_capacity += gaussian_prm.gaussian_nodes[start].get_capacity(agent_radius)\n",
    "\n",
    "goal_capacity = 0\n",
    "for goal in goals:\n",
    "    goal_capacity += gaussian_prm.gaussian_nodes[goal].get_capacity(agent_radius)\n",
    "\n",
    "assert start_capacity > num_agent, \"start config smaller than required.\"\n",
    "assert goal_capacity > num_agent, \"goal config smaller than required.\"\n",
    "\n",
    "\n",
    "for node_idx in starts:\n",
    "    gaussian_prm.gaussian_nodes[node_idx].visualize(ax)\n",
    "\n",
    "for node_idx in goals:\n",
    "    gaussian_prm.gaussian_nodes[node_idx].visualize(ax, edgecolor=\"b\")\n",
    "\n"
   ]
  }
 ],
 "metadata": {
  "language_info": {
   "name": "python"
  }
 },
 "nbformat": 4,
 "nbformat_minor": 2
}
