{
 "cells": [
  {
   "cell_type": "markdown",
   "metadata": {},
   "source": [
    "# SwarmCVT test"
   ]
  },
  {
   "cell_type": "code",
   "execution_count": null,
   "metadata": {},
   "outputs": [],
   "source": [
    "%load_ext autoreload\n",
    "%autoreload 2\n",
    "%matplotlib inline"
   ]
  },
  {
   "cell_type": "code",
   "execution_count": null,
   "metadata": {},
   "outputs": [],
   "source": [
    "import pickle\n",
    "\n",
    "from swarm_prm.solvers.utils.gaussian_prm import *\n",
    "from swarm_prm.envs.map import Map, Obstacle \n",
    "from swarm_prm.envs.instance import Instance\n",
    "\n",
    "# Replicate of map from SwarmCVT\n",
    "\n",
    "roadmap = Map(200, 160)\n",
    "safety_radius = 2 \n",
    "pos = np.array([50, 50])\n",
    "obstacles  = [\n",
    "    Obstacle(None, \"POLYGON\", [(50, 0), (60, 75), (75, 75), (90, 40), (90, 0)]),\n",
    "    Obstacle(None, \"POLYGON\", [(50, 130), (75, 127), (80, 100), (55, 103)]),\n",
    "    Obstacle(None, \"POLYGON\", [(100, 150), (140, 150), (140, 125), (110, 125)]),\n",
    "    Obstacle(None, \"POLYGON\", [(145, 25), (125, 50), (135, 100), (150, 100), (160, 75), (150, 25)])\n",
    "]\n",
    "\n",
    "num_samples = 100 \n",
    "for obs in obstacles:\n",
    "    roadmap.add_obstacle(obs)\n",
    "# fig, ax = roadmap.visualize()\n",
    "# Agent config\n",
    "num_agent = 50\n",
    "agent_radius = 1\n",
    "sampling_method = \"GAUSSIAN_SAMPLING\"\n",
    "#sampling_method = \"SWARMPRM_SAMPLING\"\n",
    "hex_radius = 6\n",
    "TEST_CVAR = False\n",
    "\n",
    "\n",
    "# Curated test instance\n",
    "starts = np.array([[25, 25], [25, 125]])\n",
    "goals = np.array([[175, 125], [175, 50]])\n",
    "\n",
    "starts_weight = np.array([.5, .5])\n",
    "goals_weight = np.array([.3, .7])\n",
    "\n",
    "g_starts = [GaussianGraphNode(start, np.identity(2)*50) for start in starts]\n",
    "g_goals = [GaussianGraphNode(goal, np.identity(2)*50) for goal in goals]\n",
    "\n",
    "instance = Instance(roadmap, g_starts, g_goals, starts_weight, goals_weight, num_agent)\n",
    "\n",
    "gaussian_prm = GaussianPRM(instance, num_samples, safety_radius=safety_radius,\n",
    "                           hex_radius=hex_radius)\n",
    "gaussian_prm.sample_free_space(sampling_strategy=\"HEXAGON\")\n",
    "gaussian_prm.load_instance()\n",
    "gaussian_prm.build_roadmap(roadmap_method=\"TRIANGULATION\", collision_check_method=\"CVAR\", radius=20)\n",
    "gaussian_prm.visualize_roadmap(\"test_map\")\n",
    "gaussian_prm.visualize_g_nodes(\"test_g_nodes\")\n",
    "\n",
    "with open(\"gaussian_prm.pkl\", \"wb\") as f:\n",
    "    pickle.dump(gaussian_prm, f)"
   ]
  },
  {
   "cell_type": "code",
   "execution_count": null,
   "metadata": {},
   "outputs": [],
   "source": [
    "import pickle\n",
    "from swarm_prm.solvers.macro.teg.teg import TEGGraph\n",
    "\n",
    "with open(\"gaussian_prm.pkl\", \"rb\") as f:\n",
    "    gaussian_prm = pickle.load(f)\n",
    "\n",
    "teg_graph= TEGGraph(gaussian_prm, agent_radius, target_flow=num_agent, max_timestep=500)\n",
    "max_flow, flow_dict, timestep, teg = teg_graph.get_earliest_timestep()"
   ]
  },
  {
   "cell_type": "code",
   "execution_count": null,
   "metadata": {},
   "outputs": [],
   "source": [
    "# fig, ax = instance.visualize()\n",
    "# simple_paths, gaussian_paths = gaussian_prm.get_solution(flow_dict, timestep, num_agent)\n",
    "# for path in simple_paths:\n",
    "#     x_coords = [loc[0] for loc in path]\n",
    "#     y_coords = [loc[1] for loc in path]\n",
    "#     ax.plot(x_coords, y_coords, '-*', label='Path', color='blue')"
   ]
  }
 ],
 "metadata": {
  "kernelspec": {
   "display_name": "SwarmPRM",
   "language": "python",
   "name": "python3"
  },
  "language_info": {
   "codemirror_mode": {
    "name": "ipython",
    "version": 3
   },
   "file_extension": ".py",
   "mimetype": "text/x-python",
   "name": "python",
   "nbconvert_exporter": "python",
   "pygments_lexer": "ipython3",
   "version": "3.10.9"
  }
 },
 "nbformat": 4,
 "nbformat_minor": 2
}
