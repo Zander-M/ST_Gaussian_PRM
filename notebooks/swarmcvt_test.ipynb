{
 "cells": [
  {
   "cell_type": "markdown",
   "metadata": {},
   "source": [
    "# SwarmCVT test"
   ]
  },
  {
   "cell_type": "code",
   "execution_count": null,
   "metadata": {},
   "outputs": [],
   "source": [
    "%load_ext autoreload\n",
    "%autoreload 2\n",
    "%matplotlib inline"
   ]
  },
  {
   "cell_type": "code",
   "execution_count": null,
   "metadata": {},
   "outputs": [],
   "source": [
    "import pickle\n",
    "\n",
    "from swarm_prm.utils.gaussian_prm import *\n",
    "from swarm_prm.envs.roadmap import Roadmap, Obstacle \n",
    "from swarm_prm.envs.instance import Instance\n",
    "\n",
    "# Replicate of map from SwarmCVT\n",
    "\n",
    "roadmap = Roadmap(200, 160)\n",
    "safety_radius = 2 \n",
    "pos = np.array([50, 50])\n",
    "obstacles  = [\n",
    "    Obstacle(None, \"POLYGON\", [(50, 0), (60, 75), (75, 75), (90, 40), (90, 0)]),\n",
    "    Obstacle(None, \"POLYGON\", [(50, 130), (75, 127), (80, 100), (55, 103)]),\n",
    "    Obstacle(None, \"POLYGON\", [(100, 150), (140, 150), (140, 125), (110, 125)]),\n",
    "    Obstacle(None, \"POLYGON\", [(145, 25), (125, 50), (135, 100), (150, 100), (160, 75), (150, 25)])\n",
    "]\n",
    "\n",
    "num_samples = 200 \n",
    "for obs in obstacles:\n",
    "    roadmap.add_obstacle(obs)\n",
    "# fig, ax = roadmap.visualize()\n",
    "# Agent config\n",
    "num_agent = 100\n",
    "agent_radius = 1\n",
    "sampling_method = \"GAUSSIAN_SAMPLING\"\n",
    "#sampling_method = \"SWARMPRM_SAMPLING\"\n",
    "hex_radius = 6\n",
    "TEST_CVAR = False\n",
    "\n",
    "\n",
    "# Curated test instance\n",
    "starts = np.array([[25, 25], [25, 125]])\n",
    "goals = np.array([[175, 125], [175, 50]])\n",
    "\n",
    "starts_weight = np.array([.5, .5])\n",
    "goals_weight = np.array([.3, .7])\n",
    "\n",
    "g_starts = [GaussianGraphNode(start, None, \"UNIFORM\", 10) for start in starts]\n",
    "g_goals = [GaussianGraphNode(goal, None, \"UNIFORM\", 10) for goal in goals]\n",
    "\n",
    "instance = Instance(roadmap, g_starts, g_goals, starts_weight, goals_weight)\n",
    "\n",
    "gaussian_prm = GaussianPRM(instance, num_samples, safety_radius=safety_radius,\n",
    "                           hex_radius=hex_radius)\n",
    "gaussian_prm.sample_free_space(sampling_strategy=\"CVT\")\n",
    "gaussian_prm.load_instance()\n",
    "gaussian_prm.build_roadmap(roadmap_method=\"TRIANGULATION\", collision_check_method=\"CVAR\", radius=25)\n",
    "gaussian_prm.visualize_roadmap(\"test_map\")\n",
    "gaussian_prm.visualize_g_nodes(\"test_g_nodes\")\n",
    "\n",
    "plt.show()\n",
    "with open(\"solutions/gaussian_prm.pkl\", \"wb\") as f:\n",
    "    pickle.dump(gaussian_prm, f)"
   ]
  },
  {
   "cell_type": "code",
   "execution_count": null,
   "metadata": {},
   "outputs": [],
   "source": [
    "import pickle\n",
    "from swarm_prm.solvers.macro.mcf import TEG_MCF \n",
    "\n",
    "with open(\"solutions/gaussian_prm.pkl\", \"rb\") as f:\n",
    "    gaussian_prm = pickle.load(f)\n",
    "\n",
    "teg_graph= TEG_MCF(gaussian_prm, num_agent, agent_radius, max_timestep=500)\n",
    "timestep, flow_dict, residual_graph = teg_graph.get_earliest_timestep()"
   ]
  },
  {
   "cell_type": "code",
   "execution_count": null,
   "metadata": {},
   "outputs": [],
   "source": [
    "fig, ax = instance.visualize()\n",
    "simple_paths, gaussian_paths = gaussian_prm.get_solution(flow_dict, timestep, num_agent)\n",
    "for path in simple_paths:\n",
    "    x_coords = [loc[0] for loc in path]\n",
    "    y_coords = [loc[1] for loc in path]\n",
    "    ax.plot(x_coords, y_coords, '-*', label='Path', color='blue')\n",
    "plt.show()"
   ]
  }
 ],
 "metadata": {
  "language_info": {
   "name": "python"
  }
 },
 "nbformat": 4,
 "nbformat_minor": 2
}
