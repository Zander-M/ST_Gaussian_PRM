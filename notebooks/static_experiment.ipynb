{
 "cells": [
  {
   "cell_type": "markdown",
   "metadata": {},
   "source": [
    "# Static Environment"
   ]
  },
  {
   "cell_type": "markdown",
   "metadata": {},
   "source": [
    "## Imports"
   ]
  },
  {
   "cell_type": "code",
   "execution_count": null,
   "metadata": {},
   "outputs": [],
   "source": [
    "import matplotlib.pyplot as plt\n",
    "from shapely.geometry import Polygon"
   ]
  },
  {
   "cell_type": "markdown",
   "metadata": {},
   "source": [
    "## Default Instances\n",
    "\n",
    "Default instances, for demonstration/visualization only.  \n",
    "\n",
    "Available Maps: empty, corridor, obstacle, cross, swarm.  \n",
    "\n",
    "Available num_samples: 100, 200, 300, 400, 500"
   ]
  },
  {
   "cell_type": "code",
   "execution_count": null,
   "metadata": {},
   "outputs": [],
   "source": [
    "instances = {}"
   ]
  },
  {
   "cell_type": "markdown",
   "metadata": {},
   "source": [
    "### Swarm Instance"
   ]
  },
  {
   "cell_type": "code",
   "execution_count": null,
   "metadata": {},
   "outputs": [],
   "source": [
    "swarm_instance_dict = {\n",
    "\"capacity_percentage\" : 0.5,\n",
    "\"agent_radius\" : 0.1,\n",
    "\"map_type\" : \"swarm\",\n",
    "\"num_samples\" : 100, \n",
    "\n",
    "# config starts and goals regions\n",
    "\"start_regions\" : [\n",
    "    Polygon([[0, 40], [0, 0], [50, 0], [50, 40]]),\n",
    "    Polygon([[0, 160], [0, 120], [50, 120], [50, 160]])\n",
    "],\n",
    "\"goal_regions\" : [\n",
    "    Polygon([[160, 160], [160, 110], [200, 110], [200, 160]]),\n",
    "    Polygon([[160, 40], [160, 0], [200, 0], [200, 40]]),\n",
    "],\n",
    "\n",
    "\"num_starts\" : 12,\n",
    "\"num_goals\" : 12,\n",
    "}\n",
    "\n",
    "instances[\"swarm\"] = swarm_instance_dict"
   ]
  },
  {
   "cell_type": "markdown",
   "metadata": {},
   "source": [
    "### Obstacle Instance"
   ]
  },
  {
   "cell_type": "code",
   "execution_count": null,
   "metadata": {},
   "outputs": [],
   "source": [
    "obstacle_instance_dict = {\n",
    "\"capacity_percentage\" : 0.5,\n",
    "\"agent_radius\" : 1,\n",
    "\"map_type\" : \"obstacle\" ,\n",
    "\"num_samples\" : 100 ,\n",
    "\n",
    "\"start_regions\" : [\n",
    "    Polygon([[0, 40], [0, 0], [50, 0], [50, 40]]),\n",
    "    Polygon([[0, 160], [0, 120], [50, 120], [50, 160]])\n",
    "],\n",
    "\"goal_regions\" : [\n",
    "    Polygon([[170, 160], [170, 110], [200, 110], [200, 160]]),\n",
    "    Polygon([[170, 40], [170, 0], [200, 0], [200, 40]]),\n",
    "],\n",
    "\"num_starts\" : 10,\n",
    "\"num_goals\" : 10,\n",
    "}\n",
    "\n",
    "instances[\"obstacle\"] = obstacle_instance_dict\n"
   ]
  },
  {
   "cell_type": "code",
   "execution_count": null,
   "metadata": {},
   "outputs": [],
   "source": [
    "# Curated Example\n",
    " \n",
    "# num_agents = 400\n",
    "# starts_idx = [88, 32, 39, 63, 17, 75, 50, 9]\n",
    "# goals_idx = [28, 11, 29, 26, 54, 30, 73, 45]\n",
    "# starts_agent_count = [66, 56, 71, 74, 53, 58, 62, 60]\n",
    "# goals_agent_count =  [74, 52, 63, 76, 52, 62, 64, 57]\n"
   ]
  },
  {
   "cell_type": "markdown",
   "metadata": {},
   "source": [
    "## Instance Config"
   ]
  },
  {
   "cell_type": "code",
   "execution_count": null,
   "metadata": {},
   "outputs": [],
   "source": [
    "# Load instance\n",
    "instance_config = instances[\"obstacle\"]"
   ]
  },
  {
   "cell_type": "markdown",
   "metadata": {},
   "source": [
    "## Solver Config"
   ]
  },
  {
   "cell_type": "code",
   "execution_count": null,
   "metadata": {},
   "outputs": [],
   "source": [
    "# Set solver\n",
    "solver_config = {\n",
    "    \"solver_name\": \"TEGSolver\"\n",
    "}"
   ]
  },
  {
   "cell_type": "code",
   "execution_count": null,
   "metadata": {},
   "outputs": [],
   "source": [
    "from swarm_prm.utils import load_instance\n",
    "\n",
    "solver = load_instance(instance_config, solver_config)\n",
    "\n",
    "gaussian_prm = solver.gaussian_prm\n",
    "agent_radius = instance_config[\"agent_radius\"]\n",
    "starts_idx = solver.starts_idx\n",
    "goals_idx = solver.goals_idx\n",
    "num_agents = solver.num_agents"
   ]
  },
  {
   "cell_type": "markdown",
   "metadata": {},
   "source": [
    "### Visualize instance"
   ]
  },
  {
   "cell_type": "code",
   "execution_count": null,
   "metadata": {},
   "outputs": [],
   "source": [
    "fig, ax = gaussian_prm.visualize_map()\n",
    "\n",
    "for start in starts_idx:\n",
    "    gaussian_prm.gaussian_nodes[start].visualize(ax)\n",
    "\n",
    "for goal in goals_idx :\n",
    "    gaussian_prm.gaussian_nodes[goal].visualize(ax, edgecolor=\"b\")\n",
    "\n",
    "plt.show()"
   ]
  },
  {
   "cell_type": "markdown",
   "metadata": {},
   "source": [
    "## Run Solver"
   ]
  },
  {
   "cell_type": "code",
   "execution_count": null,
   "metadata": {},
   "outputs": [],
   "source": [
    "from swarm_prm.solvers.macro import SOLVER_REGISTRY\n",
    "\n",
    "solution = solver.solve()\n",
    "assert solution[\"success\"], \"solver failed.\"\n",
    "timestep = solution[\"timestep\"]\n",
    "paths = solution[\"paths\"]\n",
    "g_nodes = solution[\"g_nodes\"]\n",
    "candid_starts_idx = solution[\"starts_idx\"]\n",
    "candid_goals_idx = solution[\"goals_idx\"]\n",
    "\n",
    "num_violation, max_violation_percentage = solver.eval_capacity(solution[\"paths\"])\n",
    "print(\"num violation: \", num_violation)\n",
    "print(\"max violation percentage: \", max_violation_percentage)"
   ]
  },
  {
   "cell_type": "markdown",
   "metadata": {},
   "source": [
    "## APF\n",
    "\n",
    "Parameters should be changed according to the planning instance"
   ]
  },
  {
   "cell_type": "code",
   "execution_count": null,
   "metadata": {},
   "outputs": [],
   "source": [
    "from swarm_prm.solvers.micro.apf import APF\n",
    "\n",
    "# apf_config = {\n",
    "    # \"k_attr\": 0.5,\n",
    "    # \"k_rep\": 5.2,\n",
    "    # \"step_size\": 0.05,\n",
    "    # \"repulsion_radius\": 0.4,\n",
    "    # \"goal_chisq_threshold\": 5.991, # 95% CI\n",
    "    # \"max_rep_force\": 1.0,\n",
    "    # \"min_dist\": 0.05,\n",
    "    # \"max_step\": 0.07,\n",
    "    # \"damping\": 0.7\n",
    "# }\n",
    "\n",
    "apf_config = {\n",
    "    \"k_attr\": 0.1,\n",
    "    \"k_rep\": 500,\n",
    "    \"step_size\": 0.5,\n",
    "    \"repulsion_radius\": 2 * agent_radius + 0.5,\n",
    "    \"goal_chisq_threshold\": 5.991, # 95% CI\n",
    "    \"max_rep_force\": 10.0,\n",
    "    \"min_dist\": 0.5,\n",
    "    \"max_step\": 0.7,\n",
    "    \"damping\": 0.7\n",
    "}\n",
    "trajectories = APF(solution[\"paths\"], solution[\"g_nodes\"], **apf_config).solve()"
   ]
  },
  {
   "cell_type": "markdown",
   "metadata": {},
   "source": [
    "## Visualize Per-agent Paths"
   ]
  },
  {
   "cell_type": "code",
   "execution_count": null,
   "metadata": {},
   "outputs": [],
   "source": [
    "# Static path\n",
    "from matplotlib import pyplot as plt\n",
    "fig, ax = gaussian_prm.visualize_map()\n",
    "\n",
    "cmap = plt.get_cmap(\"rainbow\")\n",
    "colors = [cmap(i / num_agents) for i in range(num_agents)]\n",
    "\n",
    "for i, path in enumerate(trajectories):\n",
    "    x_coords = [loc[0] for loc in path]\n",
    "    y_coords = [loc[1] for loc in path]\n",
    "    ax.plot(x_coords, y_coords, '-', label='Path', color=colors[i], linewidth=0.8, alpha=0.5)\n",
    "\n",
    "for start in starts_idx:\n",
    "    gaussian_prm.gaussian_nodes[start].visualize(ax)\n",
    "\n",
    "for goal in goals_idx:\n",
    "    gaussian_prm.gaussian_nodes[goal].visualize(ax, edgecolor=\"b\")\n",
    "\n",
    "plt.show()"
   ]
  },
  {
   "cell_type": "code",
   "execution_count": null,
   "metadata": {},
   "outputs": [],
   "source": [
    "# Animate path\n",
    "from matplotlib.animation import FuncAnimation\n",
    "from matplotlib.patches import Circle\n",
    "\n",
    "from IPython.display import Video\n",
    "\n",
    "speed = 50\n",
    "\n",
    "def animate_solution(agent_radius, paths, fig, ax, fig_path=\".\"):\n",
    "    \"\"\"\n",
    "        Visualize solution trajectory provided instance\n",
    "    \"\"\"\n",
    "    agents = []\n",
    "    cmap = plt.get_cmap(\"tab10\")\n",
    "    \n",
    "    for i in range(len(paths)):\n",
    "        loc = paths[i][0]\n",
    "        circle = Circle((loc[0], loc[1]), radius=agent_radius, color=cmap(i % 10))\n",
    "        agents.append(circle)\n",
    "        ax.add_patch(circle)\n",
    "\n",
    "    def init():\n",
    "        return agents\n",
    "\n",
    "    def update(frame):\n",
    "        frame = frame * speed\n",
    "        for agent, traj in zip(agents, paths):\n",
    "            agent.set_center(traj[frame])\n",
    "        return agents\n",
    "\n",
    "    anim = FuncAnimation(fig, update, frames=len(paths[0]) // speed, \n",
    "                         init_func=init, blit=True, interval=100)\n",
    "    anim.save(f\"{fig_path}/apf_solution.mp4\", writer='ffmpeg', fps=24)\n",
    "    plt.close()\n",
    "\n",
    "fig_path = \"solutions\"\n",
    "fig, ax = gaussian_prm.visualize_map()\n",
    "animate_solution(agent_radius, trajectories, fig, ax, fig_path=fig_path)\n",
    "Video(filename=\"solutions/apf_solution.mp4\", embed=True)"
   ]
  }
 ],
 "metadata": {
  "language_info": {
   "name": "python"
  }
 },
 "nbformat": 4,
 "nbformat_minor": 2
}
