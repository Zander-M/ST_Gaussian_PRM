{
 "cells": [
  {
   "cell_type": "markdown",
   "metadata": {},
   "source": [
    "# Static Environment"
   ]
  },
  {
   "cell_type": "code",
   "execution_count": null,
   "metadata": {},
   "outputs": [],
   "source": [
    "%load_ext autoreload\n",
    "%autoreload 2"
   ]
  },
  {
   "cell_type": "markdown",
   "metadata": {},
   "source": [
    "## Load Instance "
   ]
  },
  {
   "cell_type": "code",
   "execution_count": null,
   "metadata": {},
   "outputs": [],
   "source": [
    "from st_gaussian_prm.utils import load_instance, load_config\n",
    "\n",
    "instance_config, solver_config, experiment_config, apf_config = load_config(\"./configs/static_config.yaml\")\n",
    "solver = load_instance(instance_config, solver_config, **experiment_config)\n",
    "\n",
    "gaussian_prm = solver.gaussian_prm\n",
    "agent_radius = instance_config[\"agent_radius\"]\n",
    "starts_idx = solver.starts_idx\n",
    "goals_idx = solver.goals_idx\n",
    "num_agents = solver.num_agents\n"
   ]
  },
  {
   "cell_type": "code",
   "execution_count": null,
   "metadata": {},
   "outputs": [],
   "source": [
    "print(num_agents)\n",
    "print(starts_idx)\n",
    "print(goals_idx)\n",
    "print(solver.starts_agent_count)\n",
    "print(solver.goals_agent_count)"
   ]
  },
  {
   "cell_type": "markdown",
   "metadata": {},
   "source": [
    "### Visualize instance"
   ]
  },
  {
   "cell_type": "code",
   "execution_count": null,
   "metadata": {},
   "outputs": [],
   "source": [
    "import matplotlib.pyplot as plt\n",
    "fig, ax = gaussian_prm.visualize_roadmap()\n",
    "\n",
    "for start in starts_idx:\n",
    "    gaussian_prm.gaussian_nodes[start].visualize_gaussian(ax, cmap=\"Reds\")\n",
    "\n",
    "for goal in goals_idx :\n",
    "    gaussian_prm.gaussian_nodes[goal].visualize_gaussian(ax)\n",
    "\n",
    "plt.show()"
   ]
  },
  {
   "cell_type": "markdown",
   "metadata": {},
   "source": [
    "tested with DRRT. For 12 agents and 5 goals, it did not find a solution within 2 hours."
   ]
  },
  {
   "cell_type": "markdown",
   "metadata": {},
   "source": [
    "## Run Solver"
   ]
  },
  {
   "cell_type": "code",
   "execution_count": null,
   "metadata": {},
   "outputs": [],
   "source": [
    "solution = solver.solve()\n",
    "assert solution[\"success\"], \"solver failed.\"\n",
    "timestep = solution[\"timestep\"]\n",
    "paths = solution[\"paths\"]\n",
    "g_nodes = solution[\"g_nodes\"]\n",
    "candid_starts_idx = solution[\"starts_idx\"]\n",
    "candid_goals_idx = solution[\"goals_idx\"]\n",
    "\n",
    "num_violation, max_violation_percentage = solver.eval_capacity(solution[\"paths\"])\n",
    "print(\"num violation: \", num_violation)\n",
    "print(\"max violation percentage: \", max_violation_percentage)"
   ]
  },
  {
   "cell_type": "markdown",
   "metadata": {},
   "source": [
    "## Plot Gaussian trajectory"
   ]
  },
  {
   "cell_type": "code",
   "execution_count": null,
   "metadata": {},
   "outputs": [],
   "source": [
    "import matplotlib.pyplot as plt\n",
    "from matplotlib.cm import ScalarMappable\n",
    "import matplotlib.colors as colors\n",
    "\n",
    "cmap = plt.colormaps['coolwarm']\n",
    "norm = colors.Normalize(vmin=0, vmax=solution[\"timestep\"]-1) \n",
    "\n",
    "fig, ax = gaussian_prm.visualize_g_nodes()\n",
    "\n",
    "for timestep in range(solution[\"timestep\"]):\n",
    "    color = cmap(norm(timestep))\n",
    "    positions = [path[timestep] for path in solution[\"paths\"]]\n",
    "    g_nodes = [gaussian_prm.gaussian_nodes[pos] for pos in positions]\n",
    "    for g_node in g_nodes:\n",
    "        ellipse = g_node.get_confidence_ellipse()\n",
    "        x, y = ellipse.exterior.xy\n",
    "        ax.fill(x, y, facecolor=color)\n",
    "\n",
    "ax.set_xticks([])\n",
    "ax.set_yticks([])\n",
    "\n",
    "sm = ScalarMappable(norm=norm, cmap=cmap)\n",
    "sm.set_array([])  # Required for plt.colorbar()\n",
    "cbar = plt.colorbar(sm, ax=ax, orientation='horizontal', pad=0.01 )\n",
    "cbar.set_label('Timestep')\n",
    "\n",
    "plt.show()\n",
    "fig.savefig(\"./solutions/gaussian_trajectory.pdf\", bbox_inches=\"tight\")\n"
   ]
  },
  {
   "cell_type": "markdown",
   "metadata": {},
   "source": [
    "## Plot Maximum overflow percentage"
   ]
  },
  {
   "cell_type": "code",
   "execution_count": null,
   "metadata": {},
   "outputs": [],
   "source": [
    "from matplotlib.cm import ScalarMappable\n",
    "import matplotlib.colors as colors\n",
    "import numpy as np\n",
    "from collections import defaultdict\n",
    "\n",
    "# Choose a red-based colormap for violation visualization\n",
    "cmap = plt.colormaps['Reds']\n",
    "norm = colors.Normalize(vmin=0, vmax=3)  # Adjust vmax depending on expected violation ratio\n",
    "\n",
    "fig, ax = gaussian_prm.visualize_g_nodes()\n",
    "\n",
    "# Step 1: Accumulate agent counts per node per timestep\n",
    "violation_by_node = defaultdict(int)\n",
    "\n",
    "for timestep in range(solution[\"timestep\"]):\n",
    "    positions = [path[timestep] for path in solution[\"paths\"]]\n",
    "    for pos in positions:\n",
    "        g_node = gaussian_prm.gaussian_nodes[pos]\n",
    "        count = violation_by_node[pos] + 1  # increment current count for this timestep\n",
    "        capacity = g_node.get_capacity(agent_radius)\n",
    "        violation_ratio = max(0, count) / capacity if capacity > 0 else 0\n",
    "        violation_by_node[pos] = max(violation_by_node[pos], violation_ratio)  # take max over time\n",
    "\n",
    "# Step 2: Visualize each node by its max violation\n",
    "for pos, max_violation in violation_by_node.items():\n",
    "    g_node = gaussian_prm.gaussian_nodes[pos]\n",
    "    color = cmap(norm(max_violation))\n",
    "    ellipse = g_node.get_confidence_ellipse()\n",
    "    x, y = ellipse.exterior.xy\n",
    "    ax.fill(x, y, facecolor=color, edgecolor='black', linewidth=0.5)\n",
    "\n",
    "ax.set_xticks([])\n",
    "ax.set_yticks([])\n",
    "\n",
    "# Step 3: Add colorbar\n",
    "sm = ScalarMappable(norm=norm, cmap=cmap)\n",
    "sm.set_array([])\n",
    "cbar = plt.colorbar(sm, ax=ax, orientation='horizontal', pad=0.01)\n",
    "cbar.set_label('Max Capacity Violation Ratio')\n",
    "\n",
    "plt.show()\n",
    "fig.savefig(\"./solutions/gaussian_violation_max.pdf\", bbox_inches=\"tight\")\n"
   ]
  },
  {
   "cell_type": "markdown",
   "metadata": {},
   "source": [
    "## APF\n",
    "\n",
    "Parameters should be changed according to the planning instance"
   ]
  },
  {
   "cell_type": "code",
   "execution_count": null,
   "metadata": {},
   "outputs": [],
   "source": [
    "assert solution[\"success\"]\n",
    "\n",
    "from st_gaussian_prm.solvers.micro.apf import APF\n",
    "\n",
    "trajectories = APF(solution[\"paths\"], solution[\"g_nodes\"], **apf_config).solve()"
   ]
  },
  {
   "cell_type": "markdown",
   "metadata": {},
   "source": [
    "## Visualize Per-agent Paths"
   ]
  },
  {
   "cell_type": "code",
   "execution_count": null,
   "metadata": {},
   "outputs": [],
   "source": [
    "# Static path\n",
    "from matplotlib import pyplot as plt\n",
    "fig, ax = gaussian_prm.visualize_map()\n",
    "\n",
    "cmap = plt.get_cmap(\"rainbow\")\n",
    "colors = [cmap(i / num_agents) for i in range(num_agents)]\n",
    "\n",
    "for i, path in enumerate(trajectories):\n",
    "    x_coords = [loc[0] for loc in path]\n",
    "    y_coords = [loc[1] for loc in path]\n",
    "    ax.plot(x_coords, y_coords, '-', label='Path', color=colors[i], linewidth=0.8, alpha=0.5)\n",
    "\n",
    "for start in starts_idx:\n",
    "    gaussian_prm.gaussian_nodes[start].visualize(ax)\n",
    "\n",
    "for goal in goals_idx:\n",
    "    gaussian_prm.gaussian_nodes[goal].visualize(ax, edgecolor=\"b\")\n",
    "\n",
    "plt.show()"
   ]
  },
  {
   "cell_type": "code",
   "execution_count": null,
   "metadata": {},
   "outputs": [],
   "source": [
    "# Animate path\n",
    "from matplotlib.animation import FuncAnimation\n",
    "from matplotlib.patches import Circle\n",
    "\n",
    "from IPython.display import Video\n",
    "\n",
    "speed = 20\n",
    "\n",
    "def animate_solution(agent_radius, paths, fig, ax, fig_path=\".\"):\n",
    "    \"\"\"\n",
    "        Visualize solution trajectory provided instance\n",
    "    \"\"\"\n",
    "    agents = []\n",
    "    cmap = plt.get_cmap(\"tab10\")\n",
    "    \n",
    "    for i in range(len(paths)):\n",
    "        loc = paths[i][0]\n",
    "        circle = Circle((loc[0], loc[1]), radius=agent_radius, color=cmap(i % 10))\n",
    "        agents.append(circle)\n",
    "        ax.add_patch(circle)\n",
    "\n",
    "    def init():\n",
    "        return agents\n",
    "\n",
    "    def update(frame):\n",
    "        frame = frame * speed\n",
    "        for agent, traj in zip(agents, paths):\n",
    "            agent.set_center(traj[frame])\n",
    "        return agents\n",
    "\n",
    "    anim = FuncAnimation(fig, update, frames=len(paths[0]) // speed, \n",
    "                         init_func=init, blit=True, interval=100)\n",
    "    anim.save(f\"{fig_path}/apf_solution.mp4\", writer='ffmpeg', fps=24)\n",
    "    plt.close()\n",
    "\n",
    "fig_path = \"solutions\"\n",
    "fig, ax = gaussian_prm.visualize_map()\n",
    "animate_solution(agent_radius, trajectories, fig, ax, fig_path=fig_path)\n",
    "Video(filename=\"solutions/apf_solution.mp4\", embed=True)"
   ]
  }
 ],
 "metadata": {
  "language_info": {
   "name": "python"
  }
 },
 "nbformat": 4,
 "nbformat_minor": 2
}
