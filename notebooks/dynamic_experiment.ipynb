{
 "cells": [
  {
   "cell_type": "markdown",
   "id": "37eb0268",
   "metadata": {},
   "source": [
    "# Dynamic Environment"
   ]
  },
  {
   "cell_type": "markdown",
   "id": "1a08d3d4",
   "metadata": {},
   "source": [
    "## Setup Environment"
   ]
  },
  {
   "cell_type": "code",
   "execution_count": null,
   "id": "a22f741a",
   "metadata": {},
   "outputs": [],
   "source": [
    "import matplotlib.pyplot as plt\n",
    "from shapely.geometry import Polygon"
   ]
  },
  {
   "cell_type": "code",
   "execution_count": null,
   "id": "567bbd44",
   "metadata": {},
   "outputs": [],
   "source": [
    "# Agent config\n",
    "num_agents = 400\n",
    "agent_radius = 0.4\n",
    "\n",
    "# Map config\n",
    "map_type = \"swarm\" # Available maps: empty, corridor, obstacle, cross\n",
    "num_samples = 100 # Available num_samples: 100, 200, 300, 400, 500\n",
    "\n",
    "# config starts and goals\n",
    "\n",
    "start_regions = [\n",
    "    Polygon([[0, 40], [0, 0], [50, 0], [50, 40]]),\n",
    "    Polygon([[0, 160], [0, 120], [50, 120], [50, 160]])\n",
    "]\n",
    "# \n",
    "goal_regions = [\n",
    "    Polygon([[160, 160], [160, 110], [200, 110], [200, 160]]),\n",
    "    Polygon([[160, 40], [160, 0], [200, 0], [200, 40]]),\n",
    "]\n",
    "\n",
    "num_starts = 12\n",
    "num_goals = 12\n"
   ]
  },
  {
   "cell_type": "code",
   "execution_count": null,
   "id": "566180f9",
   "metadata": {},
   "outputs": [],
   "source": [
    "# Load map and instance\n",
    "import os\n",
    "import pickle\n",
    "from collections import Counter\n",
    "\n",
    "import numpy as np \n",
    "\n",
    "map_fname = \"{}_{}.pkl\".format(map_type, num_samples)\n",
    "fname = os.path.join(\"../maps\", map_fname)\n",
    "with open(fname, \"rb\") as f:\n",
    "    gaussian_prm = pickle.load(f) \n",
    "\n",
    "node_capacities = [g_node.get_capacity(agent_radius) for g_node in gaussian_prm.gaussian_nodes]\n",
    "print(\"average node capacity: \", np.average(node_capacities))\n",
    "\n",
    "# Randomly choose starts and goals from the candidates, and assign them a weight\n",
    "# Make sure all agents can fit in the start and goal configuration\n",
    "\n",
    "starts_idx_set = gaussian_prm.get_node_index(start_regions)\n",
    "goals_idx_set = gaussian_prm.get_node_index(goal_regions)\n",
    "\n",
    "starts_idx = np.random.choice(starts_idx_set, num_starts, replace=False).tolist()\n",
    "goals_idx = np.random.choice(goals_idx_set, num_goals, replace=False).tolist()\n",
    "\n",
    "# Create weight pool\n",
    "\n",
    "starts_pool = []\n",
    "goals_pool = []\n",
    "\n",
    "for start_idx in starts_idx:\n",
    "    starts_pool += [start_idx] * gaussian_prm.gaussian_nodes[start_idx].get_capacity(agent_radius)\n",
    "\n",
    "for goal_idx in goals_idx:\n",
    "    goals_pool += [goal_idx] * gaussian_prm.gaussian_nodes[goal_idx].get_capacity(agent_radius)\n",
    "\n",
    "assert len(starts_pool) > num_agents, f\"Not enough space in start config. Start capacity: {len(starts_pool)}\"\n",
    "assert len(goals_pool) > num_agents, f\"Not enough space in goal config. Goal capacity: {len(goals_pool)}\"\n",
    "\n",
    "start_per_agent = np.random.choice(starts_pool, num_agents, replace=False).tolist()\n",
    "goal_per_agent = np.random.choice(goals_pool, num_agents, replace=False).tolist()\n",
    "\n",
    "start_counts = Counter(start_per_agent)\n",
    "goal_counts = Counter(goal_per_agent)\n",
    "\n",
    "starts_idx = []\n",
    "starts_agent_count = []\n",
    "goals_idx = []\n",
    "goals_agent_count = []\n",
    "\n",
    "for start_idx, count in start_counts.items():\n",
    "    starts_idx.append(start_idx)\n",
    "    starts_agent_count.append(count)\n",
    "\n",
    "for goal_idx, count in goal_counts.items():\n",
    "    goals_idx.append(goal_idx)\n",
    "    goals_agent_count.append(count)\n",
    "\n",
    "print(starts_idx, goals_idx)\n",
    "print(starts_agent_count, goals_agent_count)"
   ]
  },
  {
   "cell_type": "markdown",
   "id": "2291e61a",
   "metadata": {},
   "source": [
    "## Add Dynamic Obstacles"
   ]
  },
  {
   "cell_type": "code",
   "execution_count": null,
   "id": "0f292275",
   "metadata": {},
   "outputs": [],
   "source": []
  },
  {
   "cell_type": "markdown",
   "id": "4dce17c1",
   "metadata": {},
   "source": [
    "## Planner"
   ]
  },
  {
   "cell_type": "code",
   "execution_count": null,
   "id": "c227039f",
   "metadata": {},
   "outputs": [],
   "source": []
  },
  {
   "cell_type": "markdown",
   "id": "2a8c2b3d",
   "metadata": {},
   "source": [
    "## Visualization"
   ]
  },
  {
   "cell_type": "code",
   "execution_count": null,
   "id": "84849634",
   "metadata": {},
   "outputs": [],
   "source": []
  }
 ],
 "metadata": {
  "language_info": {
   "name": "python"
  }
 },
 "nbformat": 4,
 "nbformat_minor": 5
}
