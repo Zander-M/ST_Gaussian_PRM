{
 "cells": [
  {
   "cell_type": "markdown",
   "metadata": {},
   "source": [
    "# Formation Control test"
   ]
  },
  {
   "cell_type": "code",
   "execution_count": null,
   "metadata": {},
   "outputs": [],
   "source": [
    "%load_ext autoreload\n",
    "%autoreload 2"
   ]
  },
  {
   "cell_type": "markdown",
   "metadata": {},
   "source": [
    "Formation control does not rely on the preconstructed roadmap.  \n",
    "Used to compare trajectory length only"
   ]
  },
  {
   "cell_type": "code",
   "execution_count": null,
   "metadata": {},
   "outputs": [],
   "source": [
    "num_agents = 500\n",
    "agent_radius = 0.1\n",
    "\n",
    "# Map config\n",
    "map_type = \"corridor\"\n",
    "num_samples = 300\n",
    "\n",
    "starts_weight = [0.5, 0.5]\n",
    "goals_weight = [0.2, 0.8]"
   ]
  },
  {
   "cell_type": "code",
   "execution_count": null,
   "metadata": {},
   "outputs": [],
   "source": [
    "# Load map and instance\n",
    "import os\n",
    "import pickle\n",
    "\n",
    "from swarm_prm.utils.agent_assignment import get_agent_assignment\n",
    "\n",
    "map_fname = \"{}_{}.pkl\".format(map_type, num_samples)\n",
    "fname = os.path.join(\"../maps\", map_fname)\n",
    "with open(fname, \"rb\") as f:\n",
    "    gaussian_prm = pickle.load(f)\n",
    "\n",
    "starts_agent_count = get_agent_assignment(num_agents, starts_weight)\n",
    "goals_agent_count = get_agent_assignment(num_agents, goals_weight)\n",
    "\n",
    "print(starts_agent_count, goals_agent_count)"
   ]
  },
  {
   "cell_type": "code",
   "execution_count": null,
   "metadata": {},
   "outputs": [],
   "source": [
    "from swarm_prm.solvers.macro import FormationControlSovler\n",
    "\n",
    "solver = FormationControlSovler(gaussian_prm, agent_radius, starts_agent_count=starts_agent_count, goals_agent_count=goals_agent_count,\n",
    "                   num_agents=num_agents, time_limit=120)\n",
    "solution = solver.solve()\n",
    "\n",
    "assert solution[\"success\"], \"sovler failed.\"\n"
   ]
  },
  {
   "cell_type": "code",
   "execution_count": null,
   "metadata": {},
   "outputs": [],
   "source": [
    "# Plot solution\n",
    "\n",
    "import matplotlib.pyplot as plt\n",
    "\n",
    "fig, ax = gaussian_prm.visualize_roadmap()\n",
    "\n",
    "# Plot convex sets\n",
    "\n",
    "x, y = solution[\"start_poly\"].exterior.xy\n",
    "ax.fill(x, y, color='red', alpha=0.4)\n",
    "x, y = solution[\"goal_poly\"].exterior.xy\n",
    "ax.fill(x, y, color='blue', alpha=0.4)\n",
    "\n",
    "for convex_node in solution[\"convex_nodes\"]:\n",
    "    x, y = convex_node.poly.exterior.xy\n",
    "    ax.fill(x, y, color='green', alpha=0.4)\n",
    "\n",
    "# Plot intermediate Gaussians \n",
    "intermediate_nodes = [solution[\"g_nodes\"][i] for i in solution[\"paths\"][0][1:-1]]\n",
    "\n",
    "for g_node in intermediate_nodes:\n",
    "    g_node.visualize(ax)\n",
    "\n",
    "plt.show()"
   ]
  },
  {
   "cell_type": "code",
   "execution_count": null,
   "metadata": {},
   "outputs": [],
   "source": [
    "from swarm_prm.solvers.micro import EvaluationSolver\n",
    "from swarm_prm.utils import paths_to_macro\n",
    "\n",
    "\n",
    "g_nodes = solution[\"g_nodes\"]\n",
    "paths = solution[\"paths\"]\n",
    "macro_sol = paths_to_macro(paths)\n",
    "timestep = len(paths[0])-1\n",
    "starts_idx = solution[\"starts_idx\"]\n",
    "goals_idx = solution[\"goals_idx\"]\n",
    "\n",
    "solver = EvaluationSolver(g_nodes, macro_sol, timestep, num_agents, \n",
    "                          starts_idx, goals_idx, starts_agent_count, goals_agent_count)\n",
    "\n",
    "single_agent_paths, cost = solver.solve()"
   ]
  },
  {
   "cell_type": "code",
   "execution_count": null,
   "metadata": {},
   "outputs": [],
   "source": [
    "# Visualize solution\n",
    "fig, ax = gaussian_prm.visualize_roadmap()\n",
    "\n",
    "cmap = plt.get_cmap(\"rainbow\")\n",
    "colors = [cmap(i/ num_agents) for i in range(num_agents)]\n",
    "\n",
    "for i, path in enumerate(single_agent_paths):\n",
    "    x = [loc[0] for loc in path]\n",
    "    y = [loc[1] for loc in path]\n",
    "    ax.plot(x, y, \"-\", color=colors[i], linewidth=0.3, alpha=0.8)\n",
    "\n",
    "plt.show()"
   ]
  }
 ],
 "metadata": {
  "language_info": {
   "name": "python"
  }
 },
 "nbformat": 4,
 "nbformat_minor": 2
}
