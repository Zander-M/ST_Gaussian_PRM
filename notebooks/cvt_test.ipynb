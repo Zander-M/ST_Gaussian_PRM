{
 "cells": [
  {
   "cell_type": "code",
   "execution_count": 1,
   "metadata": {},
   "outputs": [
    {
     "data": {
      "image/png": "[encoded data removed]",
      "text/plain": [
       "<Figure size 640x480 with 1 Axes>"
      ]
     },
     "metadata": {},
     "output_type": "display_data"
    }
   ],
   "source": [
    "import numpy as np\n",
    "import matplotlib.pyplot as plt\n",
    "from scipy.spatial import Voronoi, voronoi_plot_2d\n",
    "\n",
    "\n",
    "# Define the obstacle as a polygon (list of vertices)\n",
    "def is_inside_obstacle(point, obstacles):\n",
    "    from matplotlib.path import Path\n",
    "    for obstacle in obstacles:\n",
    "        if Path(obstacle).contains_point(point):\n",
    "            return True\n",
    "    return False\n",
    "\n",
    "# Compute centroid of a polygon\n",
    "def polygon_centroid(vertices):\n",
    "    x = vertices[:, 0]\n",
    "    y = vertices[:, 1]\n",
    "    a = 0.5 * np.sum(x[:-1] * y[1:] - x[1:] * y[:-1])\n",
    "    cx = (1 / (6 * a)) * np.sum((x[:-1] + x[1:]) * (x[:-1] * y[1:] - x[1:] * y[:-1]))\n",
    "    cy = (1 / (6 * a)) * np.sum((y[:-1] + y[1:]) * (x[:-1] * y[1:] - x[1:] * y[:-1]))\n",
    "    return np.array([cx, cy])\n",
    "\n",
    "# Generate initial points avoiding obstacles\n",
    "def generate_points(num_points, bounds, obstacles):\n",
    "    points = []\n",
    "    while len(points) < num_points:\n",
    "        point = np.random.uniform(bounds[0], bounds[1], 2)\n",
    "        if not is_inside_obstacle(point, obstacles):\n",
    "            points.append(point)\n",
    "    return np.array(points)\n",
    "\n",
    "# Plot Voronoi diagram with obstacles\n",
    "def plot_voronoi(vor, obstacles, points):\n",
    "    fig, ax = plt.subplots()\n",
    "    voronoi_plot_2d(vor, ax=ax, show_vertices=False, line_colors='orange')\n",
    "    for obstacle in obstacles:\n",
    "        ax.fill(*zip(*obstacle), color='gray')\n",
    "    ax.plot(points[:, 0], points[:, 1], 'ko')\n",
    "    ax.set_xlim(0, 1)\n",
    "    ax.set_ylim(0, 1)\n",
    "    plt.show()\n",
    "\n",
    "# Main function for CVT with obstacles\n",
    "def centroidal_voronoi(num_points, iterations, bounds, obstacles):\n",
    "    points = generate_points(num_points, bounds, obstacles)\n",
    "    for _ in range(iterations):\n",
    "        vor = Voronoi(points)\n",
    "        new_points = []\n",
    "        for i, region_index in enumerate(vor.point_region):\n",
    "            region = vor.regions[region_index]\n",
    "            if -1 in region or len(region) == 0:\n",
    "                new_points.append(points[i])\n",
    "                continue\n",
    "            polygon = np.array([vor.vertices[v] for v in region + [region[0]]])\n",
    "            if any(is_inside_obstacle(vertex, obstacles) for vertex in polygon):\n",
    "                new_points.append(points[i])\n",
    "            else:\n",
    "                centroid = polygon_centroid(polygon)\n",
    "                if not is_inside_obstacle(centroid, obstacles):\n",
    "                    new_points.append(centroid)\n",
    "                else:\n",
    "                    new_points.append(points[i])\n",
    "        points = np.array(new_points)\n",
    "    plot_voronoi(vor, obstacles, points)\n",
    "\n",
    "# Example usage\n",
    "if __name__ == \"__main__\":\n",
    "    bounds = np.array([[0, 0], [1, 1]])\n",
    "    obstacles = [\n",
    "        np.array([[0.3, 0.3], [0.5, 0.3], [0.5, 0.5], [0.3, 0.5]]),\n",
    "        np.array([[0.7, 0.7], [0.9, 0.7], [0.9, 0.9], [0.7, 0.9]])\n",
    "    ]\n",
    "    centroidal_voronoi(num_points=20, iterations=50, bounds=bounds, obstacles=obstacles)\n"
   ]
  }
 ],
 "metadata": {
  "kernelspec": {
   "display_name": "SwarmPRM",
   "language": "python",
   "name": "python3"
  },
  "language_info": {
   "codemirror_mode": {
    "name": "ipython",
    "version": 3
   },
   "file_extension": ".py",
   "mimetype": "text/x-python",
   "name": "python",
   "nbconvert_exporter": "python",
   "pygments_lexer": "ipython3",
   "version": "3.12.4"
  }
 },
 "nbformat": 4,
 "nbformat_minor": 2
}
