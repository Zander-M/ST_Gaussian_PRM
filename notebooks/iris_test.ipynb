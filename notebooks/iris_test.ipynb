{
 "cells": [
  {
   "cell_type": "markdown",
   "metadata": {},
   "source": [
    "# IRIS test"
   ]
  },
  {
   "cell_type": "code",
   "execution_count": null,
   "metadata": {},
   "outputs": [],
   "source": [
    "# Map config\n",
    "map_type = \"corridor\" # Available maps: empty, corridor, obstacle, cross\n",
    "num_samples = 300    # Available num_samples: 100, 200, 400, 500"
   ]
  },
  {
   "cell_type": "code",
   "execution_count": null,
   "metadata": {},
   "outputs": [],
   "source": [
    "# Load map and instance\n",
    "import os\n",
    "import pickle\n",
    "\n",
    "map_fname = \"{}_{}.pkl\".format(map_type, num_samples)\n",
    "fname = os.path.join(\"../maps\", map_fname)\n",
    "with open(fname, \"rb\") as f:\n",
    "    gaussian_prm = pickle.load(f)"
   ]
  },
  {
   "cell_type": "code",
   "execution_count": null,
   "metadata": {},
   "outputs": [],
   "source": [
    "import matplotlib.pyplot as plt\n",
    "import numpy as np\n",
    "import shapely\n",
    "\n",
    "from swarm_prm.solvers.macro.formation_control import IrisSampler\n",
    "\n",
    "\n",
    "iris_sampler = IrisSampler(gaussian_prm)\n",
    "\n",
    "# point 1 \n",
    "x1 = np.random.randint(0, gaussian_prm.raw_map.width)\n",
    "y1 = np.random.randint(0, gaussian_prm.raw_map.height)\n",
    "while gaussian_prm.raw_map.is_point_collision((x1, y1)):\n",
    "    x1 = np.random.randint(0, gaussian_prm.raw_map.width)\n",
    "    y1 = np.random.randint(0, gaussian_prm.raw_map.height)\n",
    "polygon1 = iris_sampler.sample((x1, y1))\n",
    "\n",
    "# point 2\n",
    "x2 = np.random.randint(0, gaussian_prm.raw_map.width)\n",
    "y2 = np.random.randint(0, gaussian_prm.raw_map.height)\n",
    "while gaussian_prm.raw_map.is_point_collision((x2, y2)):\n",
    "    x2 = np.random.randint(0, gaussian_prm.raw_map.width)\n",
    "    y2 = np.random.randint(0, gaussian_prm.raw_map.height)\n",
    "polygon2 = iris_sampler.sample((x2, y2))\n",
    "\n",
    "# intersection\n",
    "intersect = shapely.intersection(polygon1, polygon2)\n",
    "\n",
    "fig, ax = gaussian_prm.visualize_roadmap()\n",
    "\n",
    "# plot polygon\n",
    "ax.plot()\n",
    "ax.plot(x1, y1, \"ro\" )\n",
    "ax.plot(x2, y2, \"ro\" )\n",
    "\n",
    "x, y = polygon1.exterior.xy\n",
    "ax.fill(x, y, color=\"green\", alpha=0.4)\n",
    "x, y = polygon2.exterior.xy\n",
    "ax.fill(x, y, color=\"green\", alpha=0.4)\n",
    "x, y = intersect.exterior.xy\n",
    "ax.fill(x, y, color=\"yellow\", alpha=1)\n",
    "\n",
    "\n",
    "plt.show()\n"
   ]
  }
 ],
 "metadata": {
  "language_info": {
   "name": "python"
  }
 },
 "nbformat": 4,
 "nbformat_minor": 2
}
