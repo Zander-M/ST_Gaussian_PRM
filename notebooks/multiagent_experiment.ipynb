{
 "cells": [
  {
   "cell_type": "markdown",
   "id": "37eb0268",
   "metadata": {},
   "source": [
    "# Multi-swarm Environmen\n",
    "\n",
    "We let swarms swap positions on the same map\n",
    "\n",
    "Strategies: Random Priority, Priority-Based Search"
   ]
  },
  {
   "cell_type": "markdown",
   "id": "1a08d3d4",
   "metadata": {},
   "source": [
    "## Setup Environment and instances"
   ]
  },
  {
   "cell_type": "code",
   "execution_count": null,
   "id": "a22f741a",
   "metadata": {},
   "outputs": [],
   "source": [
    "import matplotlib.pyplot as plt\n",
    "from shapely.geometry import Polygon"
   ]
  },
  {
   "cell_type": "code",
   "execution_count": null,
   "id": "567bbd44",
   "metadata": {},
   "outputs": [],
   "source": [
    "configs = []\n",
    "\n",
    "# Solver config\n",
    "solver_config = {\n",
    "    \"solver_name\": \"TEGSolver\"\n",
    "}\n",
    "\n",
    "# Swarm 1\n",
    "swarm_1_config = {}\n",
    "swarm_1_config[\"capacity_percentage\"] = 0.3\n",
    "swarm_1_config[\"agent_radius\"] = 1 \n",
    "\n",
    "# Map config\n",
    "swarm_1_config[\"map_type\"] = \"swarm\" # Available maps: empty, corridor, obstacle, cross, swarm\n",
    "swarm_1_config[\"num_samples\"] = 100 # Available num_samples: 100, 200, 300, 400, 500\n",
    "\n",
    "# config starts and goals\n",
    "\n",
    "swarm_1_config[\"start_regions\"] = [\n",
    "    Polygon([[0, 40], [0, 0], [50, 0], [50, 40]]),\n",
    "    # Polygon([[0, 160], [0, 120], [50, 120], [50, 160]])\n",
    "]\n",
    "# \n",
    "swarm_1_config[\"goal_regions\"] = [\n",
    "    Polygon([[160, 160], [160, 110], [200, 110], [200, 160]]),\n",
    "]\n",
    "\n",
    "swarm_1_config[\"num_starts\"] = 3\n",
    "swarm_1_config[\"num_goals\"] = 3\n",
    "\n",
    "configs.append(swarm_1_config)\n",
    "\n",
    "# Swarm 2\n",
    "swarm_2_config = {}\n",
    "swarm_2_config[\"capacity_percentage\"] = 0.3\n",
    "swarm_2_config[\"agent_radius\"] = 1 \n",
    "\n",
    "# Map config\n",
    "swarm_2_config[\"map_type\"] = \"swarm\" # Available maps: empty, corridor, obstacle, cross, swarm\n",
    "swarm_2_config[\"num_samples\"] = 100 # Available num_samples: 100, 200, 300, 400, 500\n",
    "\n",
    "# config starts and goals\n",
    "\n",
    "swarm_2_config[\"start_regions\"] = [\n",
    "    Polygon([[0, 160], [0, 120], [50, 120], [50, 160]])\n",
    "]\n",
    "# \n",
    "swarm_2_config[\"goal_regions\"] = [\n",
    "    Polygon([[160, 40], [160, 0], [200, 0], [200, 40]]),\n",
    "]\n",
    "\n",
    "swarm_2_config[\"num_starts\"] = 3\n",
    "swarm_2_config[\"num_goals\"] = 3\n",
    "\n",
    "configs.append(swarm_2_config)\n",
    "\n",
    "# Swarm 3\n",
    "swarm_3_config = {}\n",
    "swarm_3_config[\"capacity_percentage\"] = 0.3\n",
    "swarm_3_config[\"agent_radius\"] = 1\n",
    "\n",
    "# Map config\n",
    "swarm_3_config[\"map_type\"] = \"swarm\" # Available maps: empty, corridor, obstacle, cross, swarm\n",
    "swarm_3_config[\"num_samples\"] = 100 # Available num_samples: 100, 200, 300, 400, 500\n",
    "\n",
    "# config starts and goals\n",
    "\n",
    "swarm_3_config[\"start_regions\"] = [\n",
    "    Polygon([[160, 120], [160, 80], [200, 80], [200, 120]]),\n",
    "]\n",
    "# \n",
    "swarm_3_config[\"goal_regions\"] = [\n",
    "    Polygon([[0, 120], [0, 80], [50, 80], [50, 80]])\n",
    "]\n",
    "\n",
    "swarm_3_config[\"num_starts\"] = 3\n",
    "swarm_3_config[\"num_goals\"] = 3\n",
    "\n",
    "configs.append(swarm_3_config)"
   ]
  },
  {
   "cell_type": "code",
   "execution_count": null,
   "id": "f781b7ca",
   "metadata": {},
   "outputs": [],
   "source": [
    "from st_gaussian_prm.utils import load_instance\n",
    "instances = [load_instance(instance_config, solver_config) for instance_config in configs]"
   ]
  },
  {
   "cell_type": "code",
   "execution_count": null,
   "id": "e9e04709",
   "metadata": {},
   "outputs": [],
   "source": [
    "# Visualize instance\n",
    "gaussian_prm = instances[0].gaussian_prm\n",
    "\n",
    "fig, ax = gaussian_prm.visualize_map()\n",
    "\n",
    "for color, instance in zip(['r', 'g', 'b', 'y'], instances):\n",
    "    for start in instance.starts_idx:\n",
    "        gaussian_prm.gaussian_nodes[start].visualize(ax, edgecolor=color)\n",
    "\n",
    "    for goal in instance.goals_idx :\n",
    "        gaussian_prm.gaussian_nodes[goal].visualize(ax, edgecolor=color, linestyle=\"--\")\n",
    "plt.show() "
   ]
  },
  {
   "cell_type": "markdown",
   "id": "4dce17c1",
   "metadata": {},
   "source": [
    "## Planner"
   ]
  },
  {
   "cell_type": "code",
   "execution_count": null,
   "id": "c227039f",
   "metadata": {},
   "outputs": [],
   "source": [
    "from st_gaussian_prm.solvers.multiswarm import RandomPriority\n",
    "from st_gaussian_prm.solvers.multiswarm import PriorityBasedSearch\n",
    "\n",
    "solver = PriorityBasedSearch\n",
    "# solver = RandomPriority\n",
    "\n",
    "solution = solver(instances).solve()\n",
    "if solution[\"success\"]:\n",
    "    paths = solution[\"paths\"]\n",
    "else:\n",
    "    print(\"Failed to find solution.\")"
   ]
  },
  {
   "cell_type": "markdown",
   "id": "dc6c85b8",
   "metadata": {},
   "source": [
    "## APF"
   ]
  },
  {
   "cell_type": "code",
   "execution_count": null,
   "id": "5d8512cb",
   "metadata": {},
   "outputs": [],
   "source": [
    "from st_gaussian_prm.solvers.micro.apf import APF\n",
    "\n",
    "apf_config = {\n",
    "    \"k_attr\": 0.02,\n",
    "    \"k_rep\": 100,\n",
    "    \"step_size\": 0.5,\n",
    "    \"repulsion_radius\": 2 + 0.5,\n",
    "    \"goal_chisq_threshold\": 5.991, # 95% CI\n",
    "    \"max_rep_force\": 10.0,\n",
    "    \"min_dist\": 0.5,\n",
    "    \"max_step\": 0.7,\n",
    "    \"damping\": 0.7\n",
    "}\n",
    "\n",
    "trajectories = APF(solution[\"paths\"], instances[0].gaussian_prm.gaussian_nodes, **apf_config).solve()"
   ]
  },
  {
   "cell_type": "markdown",
   "id": "2a8c2b3d",
   "metadata": {},
   "source": [
    "## Visualization"
   ]
  },
  {
   "cell_type": "code",
   "execution_count": null,
   "id": "123e3712",
   "metadata": {},
   "outputs": [],
   "source": [
    "# Static path\n",
    "from matplotlib import pyplot as plt\n",
    "fig, ax = gaussian_prm.visualize_map()\n",
    "\n",
    "cmap = plt.get_cmap(\"rainbow\")\n",
    "# colors = [cmap(i / num_agents) for i in range(num_agj js)]\n",
    "\n",
    "for i, path in enumerate(trajectories):\n",
    "    x_coords = [loc[0] for loc in path]\n",
    "    y_coords = [loc[1] for loc in path]\n",
    "    ax.plot(x_coords, y_coords, '-', label='Path', color=\"blue\", linewidth=0.8, alpha=0.5)\n",
    "\n",
    "# for start in starts_idx:\n",
    "    # gaussian_prm.gaussian_nodes[start].visualize(ax)\n",
    "# \n",
    "# for goal in goals_idx:\n",
    "    # gaussian_prm.gaussian_nodes[goal].visualize(ax, edgecolor=\"b\")\n",
    "# \n",
    "plt.show()"
   ]
  },
  {
   "cell_type": "code",
   "execution_count": null,
   "id": "93746073",
   "metadata": {},
   "outputs": [],
   "source": [
    "# Animate path\n",
    "from matplotlib.animation import FuncAnimation\n",
    "from matplotlib.patches import Circle\n",
    "\n",
    "from IPython.display import Video\n",
    "\n",
    "speed = 40\n",
    "\n",
    "def animate_solution(agent_radius, paths, fig, ax, fig_path=\".\"):\n",
    "    \"\"\"\n",
    "        Visualize solution trajectory provided instance\n",
    "    \"\"\"\n",
    "    agents = []\n",
    "    cmap = plt.get_cmap(\"tab10\")\n",
    "    \n",
    "    for i in range(len(paths)):\n",
    "        loc = paths[i][0]\n",
    "        circle = Circle((loc[0], loc[1]), radius=agent_radius, color=cmap(i % 10))\n",
    "        agents.append(circle)\n",
    "        ax.add_patch(circle)\n",
    "\n",
    "    def init():\n",
    "        return agents\n",
    "\n",
    "    def update(frame):\n",
    "        frame = frame * speed\n",
    "        for agent, traj in zip(agents, paths):\n",
    "            agent.set_center(traj[frame])\n",
    "        return agents\n",
    "\n",
    "    anim = FuncAnimation(fig, update, frames=len(paths[0]) // speed, \n",
    "                         init_func=init, blit=True, interval=100)\n",
    "    anim.save(f\"{fig_path}/apf_solution.mp4\", writer='ffmpeg', fps=24)\n",
    "    plt.close()\n",
    "\n",
    "fig_path = \"solutions\"\n",
    "fig, ax = gaussian_prm.visualize_map()\n",
    "agent_radius=1\n",
    "animate_solution(agent_radius, trajectories, fig, ax, fig_path=fig_path)\n",
    "Video(filename=\"solutions/apf_solution.mp4\", embed=True)"
   ]
  }
 ],
 "metadata": {
  "language_info": {
   "name": "python"
  }
 },
 "nbformat": 4,
 "nbformat_minor": 5
}
