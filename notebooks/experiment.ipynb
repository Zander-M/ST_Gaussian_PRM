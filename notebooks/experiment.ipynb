{
 "cells": [
  {
   "cell_type": "markdown",
   "metadata": {},
   "source": [
    "# SwarmPRM  + Time"
   ]
  },
  {
   "cell_type": "code",
   "execution_count": 1,
   "metadata": {},
   "outputs": [],
   "source": [
    "%matplotlib inline"
   ]
  },
  {
   "cell_type": "markdown",
   "metadata": {},
   "source": [
    "## Road Map tests\n"
   ]
  },
  {
   "cell_type": "markdown",
   "metadata": {},
   "source": [
    "#### Import and setup"
   ]
  },
  {
   "cell_type": "code",
   "execution_count": null,
   "metadata": {},
   "outputs": [
    {
     "ename": "ModuleNotFoundError",
     "evalue": "No module named 'swarm_prm.solvers.utils'",
     "output_type": "error",
     "traceback": [
      "\u001b[0;31m---------------------------------------------------------------------------\u001b[0m",
      "\u001b[0;31mModuleNotFoundError\u001b[0m                       Traceback (most recent call last)",
      "Cell \u001b[0;32mIn[2], line 7\u001b[0m\n\u001b[1;32m      5\u001b[0m \u001b[38;5;28;01mfrom\u001b[39;00m \u001b[38;5;21;01mswarm_prm\u001b[39;00m\u001b[38;5;21;01m.\u001b[39;00m\u001b[38;5;21;01menvs\u001b[39;00m\u001b[38;5;21;01m.\u001b[39;00m\u001b[38;5;21;01mroadmap\u001b[39;00m \u001b[38;5;28;01mimport\u001b[39;00m MapLoader\n\u001b[1;32m      6\u001b[0m \u001b[38;5;28;01mfrom\u001b[39;00m \u001b[38;5;21;01mswarm_prm\u001b[39;00m\u001b[38;5;21;01m.\u001b[39;00m\u001b[38;5;21;01menvs\u001b[39;00m\u001b[38;5;21;01m.\u001b[39;00m\u001b[38;5;21;01minstance\u001b[39;00m \u001b[38;5;28;01mimport\u001b[39;00m Instance\n\u001b[0;32m----> 7\u001b[0m \u001b[38;5;28;01mfrom\u001b[39;00m \u001b[38;5;21;01mswarm_prm\u001b[39;00m\u001b[38;5;21;01m.\u001b[39;00m\u001b[38;5;21;01msolvers\u001b[39;00m\u001b[38;5;21;01m.\u001b[39;00m\u001b[38;5;21;01mutils\u001b[39;00m\u001b[38;5;21;01m.\u001b[39;00m\u001b[38;5;21;01mgaussian_utils\u001b[39;00m \u001b[38;5;28;01mimport\u001b[39;00m GaussianGraphNode\n\u001b[1;32m      8\u001b[0m \u001b[38;5;28;01mfrom\u001b[39;00m \u001b[38;5;21;01mswarm_prm\u001b[39;00m\u001b[38;5;21;01m.\u001b[39;00m\u001b[38;5;21;01msolvers\u001b[39;00m\u001b[38;5;21;01m.\u001b[39;00m\u001b[38;5;21;01mutils\u001b[39;00m\u001b[38;5;21;01m.\u001b[39;00m\u001b[38;5;21;01mgaussian_prm\u001b[39;00m \u001b[38;5;28;01mimport\u001b[39;00m GaussianPRM\n",
      "\u001b[0;31mModuleNotFoundError\u001b[0m: No module named 'swarm_prm.solvers.utils'"
     ]
    }
   ],
   "source": [
    "import glob\n",
    "from matplotlib import pyplot as plt\n",
    "import numpy as np\n",
    "\n",
    "from swarm_prm.envs.roadmap import MapLoader\n",
    "from swarm_prm.envs.instance import Instance\n",
    "from swarm_prm.utils.gaussian_utils import GaussianGraphNode\n",
    "from swarm_prm.utils.gaussian_prm import GaussianPRM\n"
   ]
  },
  {
   "cell_type": "markdown",
   "metadata": {},
   "source": [
    "### Visualizing Maps"
   ]
  },
  {
   "cell_type": "code",
   "execution_count": null,
   "metadata": {},
   "outputs": [],
   "source": [
    "map_dir = \"../data/envs/maps/*\"\n",
    "\n",
    "fig, axs = plt.subplots(2, 5, figsize=(10, 5))\n",
    "\n",
    "# Visualize the first 10 maps\n",
    "for idx, map_fname in enumerate(glob.glob(map_dir)[:10]):\n",
    "    row = idx // 5\n",
    "    col = idx % 5\n",
    "    map_loader = MapLoader(map_fname)\n",
    "    map = map_loader.get_map()\n",
    "    map.visualize(ax=axs[row][col])"
   ]
  },
  {
   "cell_type": "markdown",
   "metadata": {},
   "source": [
    "### Curated example"
   ]
  },
  {
   "cell_type": "code",
   "execution_count": null,
   "metadata": {},
   "outputs": [],
   "source": [
    "### PARAMETERS ###\n",
    "\n",
    "# Map config\n",
    "map_fname = \"../data/envs/maps/map_6.yaml\"\n",
    "map_loader = MapLoader(map_fname)\n",
    "map = map_loader.get_map()\n",
    "num_samples = 500 # number of sample points\n",
    "\n",
    "# Agent config\n",
    "num_agent = 10\n",
    "agent_radius = 1\n",
    "# sampling_method = \"GAUSSIAN_SAMPLING\"\n",
    "#sampling_method = \"SWARMPRM_SAMPLING\"\n",
    "sampling_method = \"HEXAGON\"\n",
    "TEST_CVAR = False\n",
    "\n",
    "\n",
    "# Curated test instance\n",
    "starts = np.array([[10, 10], [10, 30], [10, 50]])\n",
    "goals = np.array([[90, 42], [90, 60], [90, 80], [90, 24]])\n",
    "\n",
    "starts_weight = np.array([0.3, 0.4, 0.3])\n",
    "goals_weight = np.array([0.1, 0.2, 0.4, 0.3])\n",
    "\n",
    "g_starts = [GaussianGraphNode(start, np.identity(2)*10) for start in starts]\n",
    "g_goals = [GaussianGraphNode(goal, np.identity(2)*10) for goal in goals]\n",
    "\n",
    "instance = Instance(map, g_starts, g_goals, starts_weight, goals_weight )\n",
    "instance.visualize()\n",
    "\n"
   ]
  },
  {
   "cell_type": "markdown",
   "metadata": {},
   "source": [
    "#### Sampling Roadmap\n",
    "\n"
   ]
  },
  {
   "cell_type": "code",
   "execution_count": null,
   "metadata": {},
   "outputs": [],
   "source": [
    "# Swarm PRM sampling method\n",
    "gaussian_prm = GaussianPRM(instance, num_samples)\n",
    "gaussian_prm.sample_free_space(sampling_strategy=sampling_method)\n",
    "gaussian_prm.load_instance()\n",
    "gaussian_prm.build_roadmap(roadmap_method=\"TRIANGULATION\", collision_check_method=\"CVAR\")\n",
    "gaussian_prm.visualize_roadmap(\"test_map\")\n",
    "gaussian_prm.visualize_g_nodes(\"test_g_nodes\")\n",
    "\n"
   ]
  },
  {
   "cell_type": "markdown",
   "metadata": {},
   "source": [
    "\n",
    "### TEG "
   ]
  },
  {
   "cell_type": "code",
   "execution_count": null,
   "metadata": {},
   "outputs": [],
   "source": [
    "from swarm_prm.solvers.macro.teg import TEGGraph \n",
    "\n",
    "teg_graph= TEGGraph(gaussian_prm, agent_radius, num_agents=num_agent)\n",
    "max_flow, flow_dict, timestep, teg = teg_graph.get_earliest_timestep()\n",
    "print(\"max flow\", max_flow)\n",
    "print(\"timestep\", timestep)\n",
    "print(\"flow_dict\", flow_dict)\n",
    "assert max_flow is not None, \"Unable to find solution within the given timesteps\"\n"
   ]
  },
  {
   "cell_type": "code",
   "execution_count": null,
   "metadata": {},
   "outputs": [],
   "source": [
    "# gaussian_prm.visualize_solution(flow_dict, timestep, num_agent)\n",
    "simple_paths, gaussian_paths = gaussian_prm.get_solution(flow_dict, timestep, num_agent)"
   ]
  },
  {
   "cell_type": "code",
   "execution_count": null,
   "metadata": {},
   "outputs": [],
   "source": [
    "# gaussian_prm.animate_solution(flow_dict, timestep, num_agent)"
   ]
  }
 ],
 "metadata": {
  "kernelspec": {
   "display_name": "SwarmPRM",
   "language": "python",
   "name": "python3"
  },
  "language_info": {
   "codemirror_mode": {
    "name": "ipython",
    "version": 3
   },
   "file_extension": ".py",
   "mimetype": "text/x-python",
   "name": "python",
   "nbconvert_exporter": "python",
   "pygments_lexer": "ipython3",
   "version": "3.12.4"
  }
 },
 "nbformat": 4,
 "nbformat_minor": 4
}
