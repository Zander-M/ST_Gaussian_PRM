{
 "cells": [
  {
   "cell_type": "markdown",
   "metadata": {},
   "source": [
    "# DRRT star test"
   ]
  },
  {
   "cell_type": "code",
   "execution_count": null,
   "metadata": {},
   "outputs": [],
   "source": [
    "%load_ext autoreload\n",
    "%autoreload 2"
   ]
  },
  {
   "cell_type": "markdown",
   "metadata": {},
   "source": [
    "San check with one agent"
   ]
  },
  {
   "cell_type": "code",
   "execution_count": null,
   "metadata": {},
   "outputs": [],
   "source": [
    "from swarm_prm.solvers.utils.gaussian_prm import *\n",
    "from swarm_prm.envs.roadmap import Roadmap, Obstacle \n",
    "from swarm_prm.envs.instance import Instance\n",
    "\n",
    "roadmap = Roadmap(100, 100)\n",
    "safety_radius = 2 \n",
    "pos = np.array([50, 50])\n",
    "obstacles  = [\n",
    "    Obstacle(None, \"POLYGON\", [(40, 0), (40, 40), (80, 40), (80, 0)]),\n",
    "    Obstacle(None, \"POLYGON\", [(40, 100), (40, 60), (80, 60), (80, 100)])\n",
    "]\n",
    "num_samples = 100 \n",
    "for obs in obstacles:\n",
    "    roadmap.add_obstacle(obs)\n",
    "# fig, ax = roadmap.visualize()\n",
    "start_mean = np.random.rand(2) * 100\n",
    "goal_mean = np.random.rand(2) * 100\n",
    "\n",
    "# Agent config\n",
    "num_agents = 1\n",
    "agent_radius = 2\n",
    "sampling_method = \"GAUSSIAN_SAMPLING\"\n",
    "#sampling_method = \"SWARMPRM_SAMPLING\"\n",
    "hex_radius = 4\n",
    "TEST_CVAR = False\n",
    "\n",
    "\n",
    "# Curated test instance\n",
    "starts = np.array([[10, 90]])\n",
    "goals = np.array([[90, 10]])\n",
    "\n",
    "starts_weight = np.array([1])\n",
    "goals_weight = np.array([1])\n",
    "\n",
    "g_starts = [GaussianGraphNode(start, None, \"UNIFORM\", 10) for start in starts]\n",
    "g_goals = [GaussianGraphNode(goal, None, \"UNIFORM\", 10) for goal in goals]\n",
    "\n",
    "instance = Instance(roadmap, g_starts, g_goals, starts_weight, goals_weight)\n",
    "\n",
    "gaussian_prm = GaussianPRM(instance, num_samples, safety_radius=safety_radius,\n",
    "                           hex_radius=hex_radius)\n",
    "\n",
    "gaussian_prm.sample_free_space(\"CVT\", \"CVAR\")\n",
    "gaussian_prm.load_instance()\n",
    "gaussian_prm.build_roadmap(roadmap_method=\"TRIANGULATION\", radius=10)\n",
    "gaussian_prm.visualize_roadmap()\n",
    "gaussian_prm.visualize_g_nodes()\n",
    "\n"
   ]
  },
  {
   "cell_type": "code",
   "execution_count": null,
   "metadata": {},
   "outputs": [],
   "source": [
    "from swarm_prm.solvers.macro.drrt import DRRT\n",
    "\n",
    "agent_radius = 1\n",
    "\n",
    "drrt_solver = DRRT(gaussian_prm, num_agents, agent_radius)\n",
    "path, cost= drrt_solver.get_solution()"
   ]
  },
  {
   "cell_type": "code",
   "execution_count": null,
   "metadata": {},
   "outputs": [],
   "source": [
    "\n",
    "fig, ax = gaussian_prm.visualize_roadmap()\n",
    "\n",
    "for agent in range(num_agents):\n",
    "    locations = [gaussian_prm.samples[location_idx[0]] for location_idx in path]\n",
    "    x = [loc[0] for loc in locations]\n",
    "    y = [loc[1] for loc in locations]\n",
    "    ax.plot(x, y, \"-\")\n",
    "\n",
    "plt.show()"
   ]
  },
  {
   "cell_type": "markdown",
   "metadata": {},
   "source": [
    "Multi-agent DRRT"
   ]
  },
  {
   "cell_type": "code",
   "execution_count": null,
   "metadata": {},
   "outputs": [],
   "source": [
    "from swarm_prm.solvers.utils.gaussian_prm import *\n",
    "from swarm_prm.envs.roadmap import Roadmap, Obstacle \n",
    "from swarm_prm.envs.instance import Instance\n",
    "\n",
    "roadmap = Roadmap(100, 100)\n",
    "safety_radius = 2 \n",
    "pos = np.array([50, 50])\n",
    "obstacles  = [\n",
    "    Obstacle(None, \"POLYGON\", [(40, 0), (40, 40), (80, 40), (80, 0)]),\n",
    "    Obstacle(None, \"POLYGON\", [(40, 100), (40, 60), (80, 60), (80, 100)])\n",
    "]\n",
    "num_samples = 50 \n",
    "for obs in obstacles:\n",
    "    roadmap.add_obstacle(obs)\n",
    "# fig, ax = roadmap.visualize()\n",
    "start_mean = np.random.rand(2) * 100\n",
    "goal_mean = np.random.rand(2) * 100\n",
    "\n",
    "# Agent config\n",
    "num_agent = 6\n",
    "agent_radius = 2\n",
    "sampling_method = \"GAUSSIAN_SAMPLING\"\n",
    "#sampling_method = \"SWARMPRM_SAMPLING\"\n",
    "hex_radius = 4\n",
    "TEST_CVAR = False\n",
    "\n",
    "\n",
    "# Curated test instance\n",
    "starts = np.array([[10, 90], [10, 10]])\n",
    "goals = np.array([[90, 10], [90, 90]])\n",
    "\n",
    "starts_weight = np.array([.5, .5])\n",
    "goals_weight = np.array([.5, .5])\n",
    "\n",
    "g_starts = [GaussianGraphNode(start, None, \"UNIFORM\", 10) for start in starts]\n",
    "g_goals = [GaussianGraphNode(goal, None, \"UNIFORM\", 10) for goal in goals]\n",
    "\n",
    "instance = Instance(roadmap, g_starts, g_goals, starts_weight, goals_weight)\n",
    "\n",
    "gaussian_prm = GaussianPRM(instance, num_samples, safety_radius=safety_radius,\n",
    "                           hex_radius=hex_radius)\n",
    "\n",
    "gaussian_prm.sample_free_space(\"CVT\", \"CVAR\")\n",
    "gaussian_prm.load_instance()\n",
    "gaussian_prm.build_roadmap(roadmap_method=\"TRIANGULATION\", radius=10)\n",
    "gaussian_prm.visualize_roadmap()\n",
    "gaussian_prm.visualize_g_nodes()\n"
   ]
  },
  {
   "cell_type": "code",
   "execution_count": null,
   "metadata": {},
   "outputs": [],
   "source": [
    "from swarm_prm.solvers.macro.drrt import DRRT\n",
    "num_agents = 4\n",
    "agent_radius = 1\n",
    "\n",
    "drrt_solver = DRRT(gaussian_prm, agent_radius, num_agents)\n",
    "path, cost= drrt_solver.get_solution()\n"
   ]
  },
  {
   "cell_type": "code",
   "execution_count": null,
   "metadata": {},
   "outputs": [],
   "source": [
    "fig, ax = gaussian_prm.visualize_roadmap()\n",
    "\n",
    "for agent in range(num_agents):\n",
    "    locations = [gaussian_prm.samples[location_idx[agent]] for location_idx in path]\n",
    "    x = [loc[0] for loc in locations]\n",
    "    y = [loc[1] for loc in locations]\n",
    "    ax.plot(x, y, \"-\")\n",
    "\n",
    "plt.show()"
   ]
  },
  {
   "cell_type": "code",
   "execution_count": null,
   "metadata": {},
   "outputs": [],
   "source": []
  }
 ],
 "metadata": {
  "kernelspec": {
   "display_name": "SwarmPRM",
   "language": "python",
   "name": "python3"
  },
  "language_info": {
   "codemirror_mode": {
    "name": "ipython",
    "version": 3
   },
   "file_extension": ".py",
   "mimetype": "text/x-python",
   "name": "python",
   "nbconvert_exporter": "python",
   "pygments_lexer": "ipython3",
   "version": "3.12.4"
  }
 },
 "nbformat": 4,
 "nbformat_minor": 2
}
