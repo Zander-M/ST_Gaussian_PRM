{
 "cells": [
  {
   "cell_type": "markdown",
   "metadata": {},
   "source": [
    "# DRRT test\n",
    "\n",
    "For efficency reasons, we use drrt instead of drrt star"
   ]
  },
  {
   "cell_type": "code",
   "execution_count": null,
   "metadata": {},
   "outputs": [],
   "source": [
    "%load_ext autoreload\n",
    "%autoreload 2"
   ]
  },
  {
   "cell_type": "markdown",
   "metadata": {},
   "source": [
    "San check with one agent"
   ]
  },
  {
   "cell_type": "code",
   "execution_count": null,
   "metadata": {},
   "outputs": [],
   "source": [
    "num_agents = 1\n",
    "agent_radius = 1\n",
    "\n",
    "# Map config\n",
    "map_type = \"obstacle\"\n",
    "num_samples = 300\n",
    "\n",
    "starts_weight = [1, 0]\n",
    "goals_weight = [0, 1]"
   ]
  },
  {
   "cell_type": "code",
   "execution_count": null,
   "metadata": {},
   "outputs": [],
   "source": [
    "# Load map and instance\n",
    "import os\n",
    "import pickle\n",
    "\n",
    "from swarm_prm.utils.agent_assignment import get_agent_assignment\n",
    "\n",
    "map_fname = \"{}_{}.pkl\".format(map_type, num_samples)\n",
    "fname = os.path.join(\"../maps\", map_fname)\n",
    "with open(fname, \"rb\") as f:\n",
    "    gaussian_prm = pickle.load(f)\n",
    "\n",
    "starts_agent_count = get_agent_assignment(num_agents, starts_weight)\n",
    "goals_agent_count = get_agent_assignment(num_agents, goals_weight)\n",
    "\n",
    "print(starts_agent_count, goals_agent_count)"
   ]
  },
  {
   "cell_type": "code",
   "execution_count": null,
   "metadata": {},
   "outputs": [],
   "source": [
    "from swarm_prm.solvers.macro.drrt import DRRTSolver\n",
    "\n",
    "drrt_solver = DRRTSolver(gaussian_prm, agent_radius, starts_agent_count=starts_agent_count, goals_agent_count=goals_agent_count,\n",
    "                   num_agents=num_agents, time_limit=120)\n",
    "path, cost= drrt_solver.solve()"
   ]
  },
  {
   "cell_type": "code",
   "execution_count": null,
   "metadata": {},
   "outputs": [],
   "source": [
    "import matplotlib.pyplot as plt\n",
    "\n",
    "fig, ax = gaussian_prm.visualize_roadmap()\n",
    "\n",
    "for agent in range(num_agents):\n",
    "    locations = [gaussian_prm.samples[location_idx[0]] for location_idx in path]\n",
    "    x = [loc[0] for loc in locations]\n",
    "    y = [loc[1] for loc in locations]\n",
    "    ax.plot(x, y, \"-\")\n",
    "\n",
    "plt.show()"
   ]
  },
  {
   "cell_type": "markdown",
   "metadata": {},
   "source": [
    "Multi-agent DRRT"
   ]
  },
  {
   "cell_type": "code",
   "execution_count": null,
   "metadata": {},
   "outputs": [],
   "source": [
    "num_agents = 4\n",
    "agent_radius = 1\n",
    "\n",
    "# Map config\n",
    "map_type = \"obstacle\"\n",
    "num_samples = 200\n",
    "\n",
    "starts_weight = [0.5, 0.5]\n",
    "goals_weight = [0, 1]"
   ]
  },
  {
   "cell_type": "code",
   "execution_count": null,
   "metadata": {},
   "outputs": [],
   "source": [
    "# Load map and instance\n",
    "import os\n",
    "import pickle\n",
    "\n",
    "from swarm_prm.utils.agent_assignment import get_agent_assignment\n",
    "\n",
    "map_fname = \"{}_{}.pkl\".format(map_type, num_samples)\n",
    "fname = os.path.join(\"../maps\", map_fname)\n",
    "with open(fname, \"rb\") as f:\n",
    "    gaussian_prm = pickle.load(f)\n",
    "\n",
    "starts_agent_count = get_agent_assignment(num_agents, starts_weight)\n",
    "goals_agent_count = get_agent_assignment(num_agents, goals_weight)\n",
    "\n",
    "print(starts_agent_count, goals_agent_count)"
   ]
  },
  {
   "cell_type": "code",
   "execution_count": null,
   "metadata": {},
   "outputs": [],
   "source": [
    "from swarm_prm.solvers.macro.drrt import DRRTSolver\n",
    "\n",
    "drrt_solver = DRRTSolver(gaussian_prm, agent_radius, starts_agent_count=starts_agent_count, goals_agent_count=goals_agent_count,\n",
    "                   num_agents=num_agents, time_limit=5400)\n",
    "path, cost= drrt_solver.solve()\n"
   ]
  },
  {
   "cell_type": "code",
   "execution_count": null,
   "metadata": {},
   "outputs": [],
   "source": [
    "import matplotlib.pyplot as plt\n",
    "\n",
    "fig, ax = gaussian_prm.visualize_roadmap()\n",
    "\n",
    "for agent in range(num_agents):\n",
    "    locations = [gaussian_prm.samples[location_idx[agent]] for location_idx in path]\n",
    "\n",
    "    print(locations)\n",
    "    x = [loc[0] for loc in locations]\n",
    "    y = [loc[1] for loc in locations]\n",
    "    ax.plot(x, y, \"-\")\n",
    "\n",
    "plt.show()"
   ]
  }
 ],
 "metadata": {
  "language_info": {
   "name": "python"
  }
 },
 "nbformat": 4,
 "nbformat_minor": 2
}
