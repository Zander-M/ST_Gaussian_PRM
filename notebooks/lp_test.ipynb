{
 "cells": [
  {
   "cell_type": "markdown",
   "metadata": {},
   "source": [
    "# Linear Programming Test"
   ]
  },
  {
   "cell_type": "code",
   "execution_count": null,
   "metadata": {},
   "outputs": [],
   "source": [
    "import cvxpy as cp\n",
    "\n",
    "# Define variables\n",
    "x = cp.Variable(integer=True, name=\"x\")\n",
    "y = cp.Variable(boolean=True, name=\"y\")\n",
    "\n",
    "# Objective function\n",
    "objective = cp.Minimize(x + 2 * y)\n",
    "\n",
    "# Constraints\n",
    "constraints = [\n",
    "    x + y >= 5,\n",
    "    x >= 0\n",
    "]\n",
    "\n",
    "# Define problem\n",
    "problem = cp.Problem(objective, constraints)\n",
    "\n",
    "# Try solving, even if suboptimal\n",
    "try:\n",
    "    problem.solve(solver=cp.SCIP, verbose=True)\n",
    "except cp.SolverError as e:\n",
    "    print(\"Solver failed:\", e)\n",
    "\n",
    "# Check status\n",
    "print(\"Status:\", problem.status)\n",
    "\n",
    "# Access best available solution\n",
    "if problem.status in [\n",
    "    cp.OPTIMAL, cp.OPTIMAL_INACCURATE,\n",
    "    cp.USER_LIMIT, cp.SOLVER_ERROR\n",
    "]:\n",
    "    print(\"Best known solution (may be suboptimal):\")\n",
    "    print(\"Objective value:\", problem.value)\n",
    "    print(\"x =\", x.value)\n",
    "    print(\"y =\", y.value)\n",
    "else:\n",
    "    print(\"No feasible solution found.\")\n"
   ]
  },
  {
   "cell_type": "code",
   "execution_count": null,
   "metadata": {},
   "outputs": [],
   "source": []
  }
 ],
 "metadata": {
  "language_info": {
   "name": "python"
  }
 },
 "nbformat": 4,
 "nbformat_minor": 2
}
